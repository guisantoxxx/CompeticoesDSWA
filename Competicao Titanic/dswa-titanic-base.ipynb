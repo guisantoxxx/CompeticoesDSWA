{
 "cells": [
  {
   "cell_type": "markdown",
   "id": "302e6029",
   "metadata": {
    "_cell_guid": "2f790bbf-1719-4d91-977c-c0890ac78192",
    "_uuid": "d078acf4cc246329c1107222b8ba73761a9b42b5",
    "papermill": {
     "duration": 0.015342,
     "end_time": "2025-01-31T14:09:19.260996",
     "exception": false,
     "start_time": "2025-01-31T14:09:19.245654",
     "status": "completed"
    },
    "tags": []
   },
   "source": [
    "# Titanic     "
   ]
  },
  {
   "cell_type": "code",
   "execution_count": 123,
   "id": "278cd2f4",
   "metadata": {
    "_cell_guid": "67300bad-eafb-4a8e-82f6-e955a6ca070a",
    "_execution_state": "idle",
    "_uuid": "01844bfc7df2c62c1057f31e582fc1ebba9ca8f4",
    "execution": {
     "iopub.execute_input": "2025-01-31T14:09:19.293452Z",
     "iopub.status.busy": "2025-01-31T14:09:19.292923Z",
     "iopub.status.idle": "2025-01-31T14:09:23.607747Z",
     "shell.execute_reply": "2025-01-31T14:09:23.606669Z"
    },
    "papermill": {
     "duration": 4.334238,
     "end_time": "2025-01-31T14:09:23.610098",
     "exception": false,
     "start_time": "2025-01-31T14:09:19.275860",
     "status": "completed"
    },
    "tags": []
   },
   "outputs": [],
   "source": [
    "import pandas as pd\n",
    "import numpy as np\n",
    "import matplotlib.pyplot as plt\n",
    "import seaborn as sns\n",
    "%matplotlib inline\n",
    "\n",
    "from collections import Counter\n",
    "\n",
    "from sklearn.ensemble import RandomForestClassifier\n",
    "from sklearn.linear_model import LogisticRegression\n",
    "from sklearn.neighbors import KNeighborsClassifier\n",
    "from sklearn.tree import DecisionTreeClassifier\n",
    "from sklearn.svm import SVC\n",
    "import xgboost as xgb\n",
    "from sklearn.model_selection import cross_val_score, StratifiedKFold\n",
    "\n",
    "sns.set_theme(style='white', context='notebook', palette='coolwarm')\n"
   ]
  },
  {
   "cell_type": "markdown",
   "id": "3ea1134f",
   "metadata": {
    "_cell_guid": "1f17e4f5-20f3-4e9c-8a56-adad76047552",
    "_uuid": "8c97f422f7970e77a1aa73e3d868e59db9b0861f",
    "papermill": {
     "duration": 0.014126,
     "end_time": "2025-01-31T14:09:23.638970",
     "exception": false,
     "start_time": "2025-01-31T14:09:23.624844",
     "status": "completed"
    },
    "tags": []
   },
   "source": [
    "## Carregameto dos Dados"
   ]
  },
  {
   "cell_type": "code",
   "execution_count": 124,
   "id": "acc57b7e",
   "metadata": {
    "_cell_guid": "fd53a1e8-0c79-4d00-823b-0988fd16b635",
    "_execution_state": "idle",
    "_uuid": "fdfaaf9242d609bb64403efe237876b435668c52",
    "execution": {
     "iopub.execute_input": "2025-01-31T14:09:23.669767Z",
     "iopub.status.busy": "2025-01-31T14:09:23.669215Z",
     "iopub.status.idle": "2025-01-31T14:09:23.705176Z",
     "shell.execute_reply": "2025-01-31T14:09:23.704162Z"
    },
    "papermill": {
     "duration": 0.053437,
     "end_time": "2025-01-31T14:09:23.707143",
     "exception": false,
     "start_time": "2025-01-31T14:09:23.653706",
     "status": "completed"
    },
    "tags": []
   },
   "outputs": [],
   "source": [
    "# Carrega os Dados\n",
    "\n",
    "train = pd.read_csv(\"./data/train.csv\")\n",
    "test = pd.read_csv(\"./data/test.csv\")\n",
    "IDtest = test[\"PassengerId\"]"
   ]
  },
  {
   "cell_type": "code",
   "execution_count": 125,
   "id": "fac5d42b",
   "metadata": {
    "execution": {
     "iopub.execute_input": "2025-01-31T14:09:23.737514Z",
     "iopub.status.busy": "2025-01-31T14:09:23.737104Z",
     "iopub.status.idle": "2025-01-31T14:09:23.743233Z",
     "shell.execute_reply": "2025-01-31T14:09:23.741939Z"
    },
    "papermill": {
     "duration": 0.02335,
     "end_time": "2025-01-31T14:09:23.745117",
     "exception": false,
     "start_time": "2025-01-31T14:09:23.721767",
     "status": "completed"
    },
    "tags": []
   },
   "outputs": [
    {
     "name": "stdout",
     "output_type": "stream",
     "text": [
      "Shape do conjunto de treino: (891, 12)\n",
      "Shape do conjunto de teste: (418, 11)\n"
     ]
    }
   ],
   "source": [
    "print(f\"Shape do conjunto de treino: {train.shape}\")\n",
    "print(f\"Shape do conjunto de teste: {test.shape}\")"
   ]
  },
  {
   "cell_type": "code",
   "execution_count": 126,
   "id": "e08b448b",
   "metadata": {
    "execution": {
     "iopub.execute_input": "2025-01-31T14:09:23.776479Z",
     "iopub.status.busy": "2025-01-31T14:09:23.776076Z",
     "iopub.status.idle": "2025-01-31T14:09:23.803162Z",
     "shell.execute_reply": "2025-01-31T14:09:23.801886Z"
    },
    "papermill": {
     "duration": 0.044795,
     "end_time": "2025-01-31T14:09:23.805264",
     "exception": false,
     "start_time": "2025-01-31T14:09:23.760469",
     "status": "completed"
    },
    "tags": []
   },
   "outputs": [
    {
     "data": {
      "text/html": [
       "<div>\n",
       "<style scoped>\n",
       "    .dataframe tbody tr th:only-of-type {\n",
       "        vertical-align: middle;\n",
       "    }\n",
       "\n",
       "    .dataframe tbody tr th {\n",
       "        vertical-align: top;\n",
       "    }\n",
       "\n",
       "    .dataframe thead th {\n",
       "        text-align: right;\n",
       "    }\n",
       "</style>\n",
       "<table border=\"1\" class=\"dataframe\">\n",
       "  <thead>\n",
       "    <tr style=\"text-align: right;\">\n",
       "      <th></th>\n",
       "      <th>PassengerId</th>\n",
       "      <th>Survived</th>\n",
       "      <th>Pclass</th>\n",
       "      <th>Name</th>\n",
       "      <th>Sex</th>\n",
       "      <th>Age</th>\n",
       "      <th>SibSp</th>\n",
       "      <th>Parch</th>\n",
       "      <th>Ticket</th>\n",
       "      <th>Fare</th>\n",
       "      <th>Cabin</th>\n",
       "      <th>Embarked</th>\n",
       "    </tr>\n",
       "  </thead>\n",
       "  <tbody>\n",
       "    <tr>\n",
       "      <th>0</th>\n",
       "      <td>1</td>\n",
       "      <td>0</td>\n",
       "      <td>3</td>\n",
       "      <td>Braund, Mr. Owen Harris</td>\n",
       "      <td>male</td>\n",
       "      <td>22.0</td>\n",
       "      <td>1</td>\n",
       "      <td>0</td>\n",
       "      <td>A/5 21171</td>\n",
       "      <td>7.2500</td>\n",
       "      <td>NaN</td>\n",
       "      <td>S</td>\n",
       "    </tr>\n",
       "    <tr>\n",
       "      <th>1</th>\n",
       "      <td>2</td>\n",
       "      <td>1</td>\n",
       "      <td>1</td>\n",
       "      <td>Cumings, Mrs. John Bradley (Florence Briggs Th...</td>\n",
       "      <td>female</td>\n",
       "      <td>38.0</td>\n",
       "      <td>1</td>\n",
       "      <td>0</td>\n",
       "      <td>PC 17599</td>\n",
       "      <td>71.2833</td>\n",
       "      <td>C85</td>\n",
       "      <td>C</td>\n",
       "    </tr>\n",
       "    <tr>\n",
       "      <th>2</th>\n",
       "      <td>3</td>\n",
       "      <td>1</td>\n",
       "      <td>3</td>\n",
       "      <td>Heikkinen, Miss. Laina</td>\n",
       "      <td>female</td>\n",
       "      <td>26.0</td>\n",
       "      <td>0</td>\n",
       "      <td>0</td>\n",
       "      <td>STON/O2. 3101282</td>\n",
       "      <td>7.9250</td>\n",
       "      <td>NaN</td>\n",
       "      <td>S</td>\n",
       "    </tr>\n",
       "    <tr>\n",
       "      <th>3</th>\n",
       "      <td>4</td>\n",
       "      <td>1</td>\n",
       "      <td>1</td>\n",
       "      <td>Futrelle, Mrs. Jacques Heath (Lily May Peel)</td>\n",
       "      <td>female</td>\n",
       "      <td>35.0</td>\n",
       "      <td>1</td>\n",
       "      <td>0</td>\n",
       "      <td>113803</td>\n",
       "      <td>53.1000</td>\n",
       "      <td>C123</td>\n",
       "      <td>S</td>\n",
       "    </tr>\n",
       "    <tr>\n",
       "      <th>4</th>\n",
       "      <td>5</td>\n",
       "      <td>0</td>\n",
       "      <td>3</td>\n",
       "      <td>Allen, Mr. William Henry</td>\n",
       "      <td>male</td>\n",
       "      <td>35.0</td>\n",
       "      <td>0</td>\n",
       "      <td>0</td>\n",
       "      <td>373450</td>\n",
       "      <td>8.0500</td>\n",
       "      <td>NaN</td>\n",
       "      <td>S</td>\n",
       "    </tr>\n",
       "  </tbody>\n",
       "</table>\n",
       "</div>"
      ],
      "text/plain": [
       "   PassengerId  Survived  Pclass  \\\n",
       "0            1         0       3   \n",
       "1            2         1       1   \n",
       "2            3         1       3   \n",
       "3            4         1       1   \n",
       "4            5         0       3   \n",
       "\n",
       "                                                Name     Sex   Age  SibSp  \\\n",
       "0                            Braund, Mr. Owen Harris    male  22.0      1   \n",
       "1  Cumings, Mrs. John Bradley (Florence Briggs Th...  female  38.0      1   \n",
       "2                             Heikkinen, Miss. Laina  female  26.0      0   \n",
       "3       Futrelle, Mrs. Jacques Heath (Lily May Peel)  female  35.0      1   \n",
       "4                           Allen, Mr. William Henry    male  35.0      0   \n",
       "\n",
       "   Parch            Ticket     Fare Cabin Embarked  \n",
       "0      0         A/5 21171   7.2500   NaN        S  \n",
       "1      0          PC 17599  71.2833   C85        C  \n",
       "2      0  STON/O2. 3101282   7.9250   NaN        S  \n",
       "3      0            113803  53.1000  C123        S  \n",
       "4      0            373450   8.0500   NaN        S  "
      ]
     },
     "execution_count": 126,
     "metadata": {},
     "output_type": "execute_result"
    }
   ],
   "source": [
    "train.head()"
   ]
  },
  {
   "cell_type": "code",
   "execution_count": 127,
   "id": "fc5ccf49",
   "metadata": {
    "execution": {
     "iopub.execute_input": "2025-01-31T14:09:23.839061Z",
     "iopub.status.busy": "2025-01-31T14:09:23.838695Z",
     "iopub.status.idle": "2025-01-31T14:09:23.846191Z",
     "shell.execute_reply": "2025-01-31T14:09:23.844931Z"
    },
    "papermill": {
     "duration": 0.026077,
     "end_time": "2025-01-31T14:09:23.848302",
     "exception": false,
     "start_time": "2025-01-31T14:09:23.822225",
     "status": "completed"
    },
    "tags": []
   },
   "outputs": [
    {
     "data": {
      "text/plain": [
       "PassengerId      int64\n",
       "Survived         int64\n",
       "Pclass           int64\n",
       "Name            object\n",
       "Sex             object\n",
       "Age            float64\n",
       "SibSp            int64\n",
       "Parch            int64\n",
       "Ticket          object\n",
       "Fare           float64\n",
       "Cabin           object\n",
       "Embarked        object\n",
       "dtype: object"
      ]
     },
     "execution_count": 127,
     "metadata": {},
     "output_type": "execute_result"
    }
   ],
   "source": [
    "train.dtypes"
   ]
  },
  {
   "cell_type": "code",
   "execution_count": 128,
   "id": "5d2b4cf2",
   "metadata": {
    "execution": {
     "iopub.execute_input": "2025-01-31T14:09:23.879920Z",
     "iopub.status.busy": "2025-01-31T14:09:23.879526Z",
     "iopub.status.idle": "2025-01-31T14:09:23.916296Z",
     "shell.execute_reply": "2025-01-31T14:09:23.914782Z"
    },
    "papermill": {
     "duration": 0.055003,
     "end_time": "2025-01-31T14:09:23.918358",
     "exception": false,
     "start_time": "2025-01-31T14:09:23.863355",
     "status": "completed"
    },
    "tags": []
   },
   "outputs": [
    {
     "data": {
      "text/html": [
       "<div>\n",
       "<style scoped>\n",
       "    .dataframe tbody tr th:only-of-type {\n",
       "        vertical-align: middle;\n",
       "    }\n",
       "\n",
       "    .dataframe tbody tr th {\n",
       "        vertical-align: top;\n",
       "    }\n",
       "\n",
       "    .dataframe thead th {\n",
       "        text-align: right;\n",
       "    }\n",
       "</style>\n",
       "<table border=\"1\" class=\"dataframe\">\n",
       "  <thead>\n",
       "    <tr style=\"text-align: right;\">\n",
       "      <th></th>\n",
       "      <th>PassengerId</th>\n",
       "      <th>Survived</th>\n",
       "      <th>Pclass</th>\n",
       "      <th>Age</th>\n",
       "      <th>SibSp</th>\n",
       "      <th>Parch</th>\n",
       "      <th>Fare</th>\n",
       "    </tr>\n",
       "  </thead>\n",
       "  <tbody>\n",
       "    <tr>\n",
       "      <th>count</th>\n",
       "      <td>891.000000</td>\n",
       "      <td>891.000000</td>\n",
       "      <td>891.000000</td>\n",
       "      <td>714.000000</td>\n",
       "      <td>891.000000</td>\n",
       "      <td>891.000000</td>\n",
       "      <td>891.000000</td>\n",
       "    </tr>\n",
       "    <tr>\n",
       "      <th>mean</th>\n",
       "      <td>446.000000</td>\n",
       "      <td>0.383838</td>\n",
       "      <td>2.308642</td>\n",
       "      <td>29.699118</td>\n",
       "      <td>0.523008</td>\n",
       "      <td>0.381594</td>\n",
       "      <td>32.204208</td>\n",
       "    </tr>\n",
       "    <tr>\n",
       "      <th>std</th>\n",
       "      <td>257.353842</td>\n",
       "      <td>0.486592</td>\n",
       "      <td>0.836071</td>\n",
       "      <td>14.526497</td>\n",
       "      <td>1.102743</td>\n",
       "      <td>0.806057</td>\n",
       "      <td>49.693429</td>\n",
       "    </tr>\n",
       "    <tr>\n",
       "      <th>min</th>\n",
       "      <td>1.000000</td>\n",
       "      <td>0.000000</td>\n",
       "      <td>1.000000</td>\n",
       "      <td>0.420000</td>\n",
       "      <td>0.000000</td>\n",
       "      <td>0.000000</td>\n",
       "      <td>0.000000</td>\n",
       "    </tr>\n",
       "    <tr>\n",
       "      <th>25%</th>\n",
       "      <td>223.500000</td>\n",
       "      <td>0.000000</td>\n",
       "      <td>2.000000</td>\n",
       "      <td>20.125000</td>\n",
       "      <td>0.000000</td>\n",
       "      <td>0.000000</td>\n",
       "      <td>7.910400</td>\n",
       "    </tr>\n",
       "    <tr>\n",
       "      <th>50%</th>\n",
       "      <td>446.000000</td>\n",
       "      <td>0.000000</td>\n",
       "      <td>3.000000</td>\n",
       "      <td>28.000000</td>\n",
       "      <td>0.000000</td>\n",
       "      <td>0.000000</td>\n",
       "      <td>14.454200</td>\n",
       "    </tr>\n",
       "    <tr>\n",
       "      <th>75%</th>\n",
       "      <td>668.500000</td>\n",
       "      <td>1.000000</td>\n",
       "      <td>3.000000</td>\n",
       "      <td>38.000000</td>\n",
       "      <td>1.000000</td>\n",
       "      <td>0.000000</td>\n",
       "      <td>31.000000</td>\n",
       "    </tr>\n",
       "    <tr>\n",
       "      <th>max</th>\n",
       "      <td>891.000000</td>\n",
       "      <td>1.000000</td>\n",
       "      <td>3.000000</td>\n",
       "      <td>80.000000</td>\n",
       "      <td>8.000000</td>\n",
       "      <td>6.000000</td>\n",
       "      <td>512.329200</td>\n",
       "    </tr>\n",
       "  </tbody>\n",
       "</table>\n",
       "</div>"
      ],
      "text/plain": [
       "       PassengerId    Survived      Pclass         Age       SibSp  \\\n",
       "count   891.000000  891.000000  891.000000  714.000000  891.000000   \n",
       "mean    446.000000    0.383838    2.308642   29.699118    0.523008   \n",
       "std     257.353842    0.486592    0.836071   14.526497    1.102743   \n",
       "min       1.000000    0.000000    1.000000    0.420000    0.000000   \n",
       "25%     223.500000    0.000000    2.000000   20.125000    0.000000   \n",
       "50%     446.000000    0.000000    3.000000   28.000000    0.000000   \n",
       "75%     668.500000    1.000000    3.000000   38.000000    1.000000   \n",
       "max     891.000000    1.000000    3.000000   80.000000    8.000000   \n",
       "\n",
       "            Parch        Fare  \n",
       "count  891.000000  891.000000  \n",
       "mean     0.381594   32.204208  \n",
       "std      0.806057   49.693429  \n",
       "min      0.000000    0.000000  \n",
       "25%      0.000000    7.910400  \n",
       "50%      0.000000   14.454200  \n",
       "75%      0.000000   31.000000  \n",
       "max      6.000000  512.329200  "
      ]
     },
     "execution_count": 128,
     "metadata": {},
     "output_type": "execute_result"
    }
   ],
   "source": [
    "train.describe()"
   ]
  },
  {
   "cell_type": "markdown",
   "id": "b7a98600",
   "metadata": {
    "_cell_guid": "06c79bd7-6180-4c42-baef-8632bd1b27a1",
    "_uuid": "f927619c2c668bb1004aa0cce909a9732b2626fd",
    "papermill": {
     "duration": 0.014976,
     "end_time": "2025-01-31T14:09:23.948662",
     "exception": false,
     "start_time": "2025-01-31T14:09:23.933686",
     "status": "completed"
    },
    "tags": []
   },
   "source": [
    "### Detecção de Outliers"
   ]
  },
  {
   "cell_type": "code",
   "execution_count": 129,
   "id": "7f495214",
   "metadata": {
    "_cell_guid": "6fde3971-ffa0-423c-991f-15f8502fe5bb",
    "_execution_state": "idle",
    "_uuid": "85a3c96713afbc48fbe2489d6872917743b220d8",
    "execution": {
     "iopub.execute_input": "2025-01-31T14:09:23.980113Z",
     "iopub.status.busy": "2025-01-31T14:09:23.979755Z",
     "iopub.status.idle": "2025-01-31T14:09:23.997939Z",
     "shell.execute_reply": "2025-01-31T14:09:23.996667Z"
    },
    "papermill": {
     "duration": 0.036003,
     "end_time": "2025-01-31T14:09:23.999699",
     "exception": false,
     "start_time": "2025-01-31T14:09:23.963696",
     "status": "completed"
    },
    "tags": []
   },
   "outputs": [],
   "source": [
    "def detect_outliers(df, n, features):\n",
    "    \"\"\"\n",
    "    Recebe um dataframe df com as variáveis e retorna uma lista dos índices  \n",
    "    correspondentes às observações que contêm mais de n outliers de acordo  \n",
    "    com o método de Tukey.\n",
    "    \"\"\"\n",
    "    outlier_indices = []\n",
    "    \n",
    "    # Iterar sobre as variáveis (colunas)\n",
    "    for col in features:\n",
    "        # 1º quartil (25%)\n",
    "        Q1 = np.percentile(df[col], 25)\n",
    "        # 3º quartil (75%)\n",
    "        Q3 = np.percentile(df[col], 75)\n",
    "        # Intervalo interquartil (IQR)\n",
    "        IQR = Q3 - Q1\n",
    "        \n",
    "        # Passo para identificação de outliers\n",
    "        outlier_step = 1.5 * IQR\n",
    "        \n",
    "        # Determinar uma lista de índices dos outliers para a variável col\n",
    "        outlier_list_col = df[(df[col] < Q1 - outlier_step) | (df[col] > Q3 + outlier_step)].index\n",
    "        \n",
    "        # Adicionar os índices dos outliers encontrados para col à lista de índices de outliers\n",
    "        outlier_indices.extend(outlier_list_col)\n",
    "        \n",
    "    # Selecionar observações que contêm mais de n outliers\n",
    "    outlier_indices = Counter(outlier_indices)        \n",
    "    multiple_outliers = [k for k, v in outlier_indices.items() if v > n]\n",
    "    \n",
    "    return multiple_outliers   \n",
    "\n",
    "# Detecta outliers nas variáveis Age, SibSp, Parch e Fare\n",
    "Outliers_to_drop = detect_outliers(train, 2, [\"Age\", \"SibSp\", \"Parch\", \"Fare\"])"
   ]
  },
  {
   "cell_type": "markdown",
   "id": "c88d5f10",
   "metadata": {
    "_cell_guid": "095f3dd7-b424-4aa4-a59b-d3de79a59b7b",
    "_uuid": "18484f27ce1d2c1a666d683be1c3eda8e1181b10",
    "papermill": {
     "duration": 0.014875,
     "end_time": "2025-01-31T14:09:24.030155",
     "exception": false,
     "start_time": "2025-01-31T14:09:24.015280",
     "status": "completed"
    },
    "tags": []
   },
   "source": [
    "Outliers podem prejudicar modelos de machine learning porque distorcem a média, afetam a variância, causam overfitting e influenciam algoritmos baseados em distância e gradiente. Para lidar com eles, podemos removê-los.\n",
    "\n",
    "Para detectar os outliers, vamos usar o método Tukey, considerando como outlier as amostras com pelo menos duas váriaveis outliers."
   ]
  },
  {
   "cell_type": "code",
   "execution_count": 130,
   "id": "056ce63c",
   "metadata": {
    "_cell_guid": "d2eb9251-5ba8-4852-890e-a4788ac916af",
    "_execution_state": "idle",
    "_uuid": "0697589355a97c2fc8db712eaf3c35288357545d",
    "execution": {
     "iopub.execute_input": "2025-01-31T14:09:24.061555Z",
     "iopub.status.busy": "2025-01-31T14:09:24.061136Z",
     "iopub.status.idle": "2025-01-31T14:09:24.082344Z",
     "shell.execute_reply": "2025-01-31T14:09:24.081156Z"
    },
    "papermill": {
     "duration": 0.039068,
     "end_time": "2025-01-31T14:09:24.084292",
     "exception": false,
     "start_time": "2025-01-31T14:09:24.045224",
     "status": "completed"
    },
    "tags": []
   },
   "outputs": [
    {
     "data": {
      "text/html": [
       "<div>\n",
       "<style scoped>\n",
       "    .dataframe tbody tr th:only-of-type {\n",
       "        vertical-align: middle;\n",
       "    }\n",
       "\n",
       "    .dataframe tbody tr th {\n",
       "        vertical-align: top;\n",
       "    }\n",
       "\n",
       "    .dataframe thead th {\n",
       "        text-align: right;\n",
       "    }\n",
       "</style>\n",
       "<table border=\"1\" class=\"dataframe\">\n",
       "  <thead>\n",
       "    <tr style=\"text-align: right;\">\n",
       "      <th></th>\n",
       "      <th>PassengerId</th>\n",
       "      <th>Survived</th>\n",
       "      <th>Pclass</th>\n",
       "      <th>Name</th>\n",
       "      <th>Sex</th>\n",
       "      <th>Age</th>\n",
       "      <th>SibSp</th>\n",
       "      <th>Parch</th>\n",
       "      <th>Ticket</th>\n",
       "      <th>Fare</th>\n",
       "      <th>Cabin</th>\n",
       "      <th>Embarked</th>\n",
       "    </tr>\n",
       "  </thead>\n",
       "  <tbody>\n",
       "    <tr>\n",
       "      <th>27</th>\n",
       "      <td>28</td>\n",
       "      <td>0</td>\n",
       "      <td>1</td>\n",
       "      <td>Fortune, Mr. Charles Alexander</td>\n",
       "      <td>male</td>\n",
       "      <td>19.0</td>\n",
       "      <td>3</td>\n",
       "      <td>2</td>\n",
       "      <td>19950</td>\n",
       "      <td>263.00</td>\n",
       "      <td>C23 C25 C27</td>\n",
       "      <td>S</td>\n",
       "    </tr>\n",
       "    <tr>\n",
       "      <th>88</th>\n",
       "      <td>89</td>\n",
       "      <td>1</td>\n",
       "      <td>1</td>\n",
       "      <td>Fortune, Miss. Mabel Helen</td>\n",
       "      <td>female</td>\n",
       "      <td>23.0</td>\n",
       "      <td>3</td>\n",
       "      <td>2</td>\n",
       "      <td>19950</td>\n",
       "      <td>263.00</td>\n",
       "      <td>C23 C25 C27</td>\n",
       "      <td>S</td>\n",
       "    </tr>\n",
       "    <tr>\n",
       "      <th>159</th>\n",
       "      <td>160</td>\n",
       "      <td>0</td>\n",
       "      <td>3</td>\n",
       "      <td>Sage, Master. Thomas Henry</td>\n",
       "      <td>male</td>\n",
       "      <td>NaN</td>\n",
       "      <td>8</td>\n",
       "      <td>2</td>\n",
       "      <td>CA. 2343</td>\n",
       "      <td>69.55</td>\n",
       "      <td>NaN</td>\n",
       "      <td>S</td>\n",
       "    </tr>\n",
       "    <tr>\n",
       "      <th>180</th>\n",
       "      <td>181</td>\n",
       "      <td>0</td>\n",
       "      <td>3</td>\n",
       "      <td>Sage, Miss. Constance Gladys</td>\n",
       "      <td>female</td>\n",
       "      <td>NaN</td>\n",
       "      <td>8</td>\n",
       "      <td>2</td>\n",
       "      <td>CA. 2343</td>\n",
       "      <td>69.55</td>\n",
       "      <td>NaN</td>\n",
       "      <td>S</td>\n",
       "    </tr>\n",
       "    <tr>\n",
       "      <th>201</th>\n",
       "      <td>202</td>\n",
       "      <td>0</td>\n",
       "      <td>3</td>\n",
       "      <td>Sage, Mr. Frederick</td>\n",
       "      <td>male</td>\n",
       "      <td>NaN</td>\n",
       "      <td>8</td>\n",
       "      <td>2</td>\n",
       "      <td>CA. 2343</td>\n",
       "      <td>69.55</td>\n",
       "      <td>NaN</td>\n",
       "      <td>S</td>\n",
       "    </tr>\n",
       "    <tr>\n",
       "      <th>324</th>\n",
       "      <td>325</td>\n",
       "      <td>0</td>\n",
       "      <td>3</td>\n",
       "      <td>Sage, Mr. George John Jr</td>\n",
       "      <td>male</td>\n",
       "      <td>NaN</td>\n",
       "      <td>8</td>\n",
       "      <td>2</td>\n",
       "      <td>CA. 2343</td>\n",
       "      <td>69.55</td>\n",
       "      <td>NaN</td>\n",
       "      <td>S</td>\n",
       "    </tr>\n",
       "    <tr>\n",
       "      <th>341</th>\n",
       "      <td>342</td>\n",
       "      <td>1</td>\n",
       "      <td>1</td>\n",
       "      <td>Fortune, Miss. Alice Elizabeth</td>\n",
       "      <td>female</td>\n",
       "      <td>24.0</td>\n",
       "      <td>3</td>\n",
       "      <td>2</td>\n",
       "      <td>19950</td>\n",
       "      <td>263.00</td>\n",
       "      <td>C23 C25 C27</td>\n",
       "      <td>S</td>\n",
       "    </tr>\n",
       "    <tr>\n",
       "      <th>792</th>\n",
       "      <td>793</td>\n",
       "      <td>0</td>\n",
       "      <td>3</td>\n",
       "      <td>Sage, Miss. Stella Anna</td>\n",
       "      <td>female</td>\n",
       "      <td>NaN</td>\n",
       "      <td>8</td>\n",
       "      <td>2</td>\n",
       "      <td>CA. 2343</td>\n",
       "      <td>69.55</td>\n",
       "      <td>NaN</td>\n",
       "      <td>S</td>\n",
       "    </tr>\n",
       "    <tr>\n",
       "      <th>846</th>\n",
       "      <td>847</td>\n",
       "      <td>0</td>\n",
       "      <td>3</td>\n",
       "      <td>Sage, Mr. Douglas Bullen</td>\n",
       "      <td>male</td>\n",
       "      <td>NaN</td>\n",
       "      <td>8</td>\n",
       "      <td>2</td>\n",
       "      <td>CA. 2343</td>\n",
       "      <td>69.55</td>\n",
       "      <td>NaN</td>\n",
       "      <td>S</td>\n",
       "    </tr>\n",
       "    <tr>\n",
       "      <th>863</th>\n",
       "      <td>864</td>\n",
       "      <td>0</td>\n",
       "      <td>3</td>\n",
       "      <td>Sage, Miss. Dorothy Edith \"Dolly\"</td>\n",
       "      <td>female</td>\n",
       "      <td>NaN</td>\n",
       "      <td>8</td>\n",
       "      <td>2</td>\n",
       "      <td>CA. 2343</td>\n",
       "      <td>69.55</td>\n",
       "      <td>NaN</td>\n",
       "      <td>S</td>\n",
       "    </tr>\n",
       "  </tbody>\n",
       "</table>\n",
       "</div>"
      ],
      "text/plain": [
       "     PassengerId  Survived  Pclass                               Name     Sex  \\\n",
       "27            28         0       1     Fortune, Mr. Charles Alexander    male   \n",
       "88            89         1       1         Fortune, Miss. Mabel Helen  female   \n",
       "159          160         0       3         Sage, Master. Thomas Henry    male   \n",
       "180          181         0       3       Sage, Miss. Constance Gladys  female   \n",
       "201          202         0       3                Sage, Mr. Frederick    male   \n",
       "324          325         0       3           Sage, Mr. George John Jr    male   \n",
       "341          342         1       1     Fortune, Miss. Alice Elizabeth  female   \n",
       "792          793         0       3            Sage, Miss. Stella Anna  female   \n",
       "846          847         0       3           Sage, Mr. Douglas Bullen    male   \n",
       "863          864         0       3  Sage, Miss. Dorothy Edith \"Dolly\"  female   \n",
       "\n",
       "      Age  SibSp  Parch    Ticket    Fare        Cabin Embarked  \n",
       "27   19.0      3      2     19950  263.00  C23 C25 C27        S  \n",
       "88   23.0      3      2     19950  263.00  C23 C25 C27        S  \n",
       "159   NaN      8      2  CA. 2343   69.55          NaN        S  \n",
       "180   NaN      8      2  CA. 2343   69.55          NaN        S  \n",
       "201   NaN      8      2  CA. 2343   69.55          NaN        S  \n",
       "324   NaN      8      2  CA. 2343   69.55          NaN        S  \n",
       "341  24.0      3      2     19950  263.00  C23 C25 C27        S  \n",
       "792   NaN      8      2  CA. 2343   69.55          NaN        S  \n",
       "846   NaN      8      2  CA. 2343   69.55          NaN        S  \n",
       "863   NaN      8      2  CA. 2343   69.55          NaN        S  "
      ]
     },
     "execution_count": 130,
     "metadata": {},
     "output_type": "execute_result"
    }
   ],
   "source": [
    "train.loc[Outliers_to_drop] # Mostra as amostras outliers"
   ]
  },
  {
   "cell_type": "code",
   "execution_count": 131,
   "id": "c87d76bf",
   "metadata": {
    "_cell_guid": "ee905e72-b320-488c-bb4b-0dfad21851a2",
    "_execution_state": "idle",
    "_uuid": "0a35c4ab08bfc9a97b52ef4f0789e541ffb2a35d",
    "execution": {
     "iopub.execute_input": "2025-01-31T14:09:24.117489Z",
     "iopub.status.busy": "2025-01-31T14:09:24.117031Z",
     "iopub.status.idle": "2025-01-31T14:09:24.122899Z",
     "shell.execute_reply": "2025-01-31T14:09:24.121927Z"
    },
    "papermill": {
     "duration": 0.024693,
     "end_time": "2025-01-31T14:09:24.124649",
     "exception": false,
     "start_time": "2025-01-31T14:09:24.099956",
     "status": "completed"
    },
    "tags": []
   },
   "outputs": [],
   "source": [
    "# Dropa outliers\n",
    "train = train.drop(Outliers_to_drop, axis = 0).reset_index(drop=True)"
   ]
  },
  {
   "cell_type": "code",
   "execution_count": 132,
   "id": "e112a1aa",
   "metadata": {
    "_cell_guid": "eba4943d-cce3-4e1c-80cd-635c7f25a9db",
    "_execution_state": "idle",
    "_uuid": "21e8b1b883f3be90b41ee2dbfc48393befcad199",
    "execution": {
     "iopub.execute_input": "2025-01-31T14:09:24.156978Z",
     "iopub.status.busy": "2025-01-31T14:09:24.156608Z",
     "iopub.status.idle": "2025-01-31T14:09:24.164472Z",
     "shell.execute_reply": "2025-01-31T14:09:24.163220Z"
    },
    "papermill": {
     "duration": 0.026073,
     "end_time": "2025-01-31T14:09:24.166311",
     "exception": false,
     "start_time": "2025-01-31T14:09:24.140238",
     "status": "completed"
    },
    "tags": []
   },
   "outputs": [],
   "source": [
    "train_len = len(train)\n",
    "dataset =  pd.concat(objs=[train, test], axis=0).reset_index(drop=True)"
   ]
  },
  {
   "cell_type": "markdown",
   "id": "43eaf7ca",
   "metadata": {
    "_cell_guid": "0540c770-fc86-437d-b5d0-dc045ee93ad1",
    "_uuid": "885b310a79a0eb7caf6e531007a5faba0c80db51",
    "papermill": {
     "duration": 0.015143,
     "end_time": "2025-01-31T14:09:24.197494",
     "exception": false,
     "start_time": "2025-01-31T14:09:24.182351",
     "status": "completed"
    },
    "tags": []
   },
   "source": [
    "### Procurando null e valores faltantes"
   ]
  },
  {
   "cell_type": "code",
   "execution_count": 133,
   "id": "81125afa",
   "metadata": {
    "_cell_guid": "622a9ea5-f567-4822-8ab3-5ff79359edfd",
    "_execution_state": "idle",
    "_uuid": "e83534c1bfa121e0afe858bd75c3794c86f2eaa6",
    "execution": {
     "iopub.execute_input": "2025-01-31T14:09:24.229778Z",
     "iopub.status.busy": "2025-01-31T14:09:24.229411Z",
     "iopub.status.idle": "2025-01-31T14:09:24.239121Z",
     "shell.execute_reply": "2025-01-31T14:09:24.238101Z"
    },
    "papermill": {
     "duration": 0.028093,
     "end_time": "2025-01-31T14:09:24.240953",
     "exception": false,
     "start_time": "2025-01-31T14:09:24.212860",
     "status": "completed"
    },
    "tags": []
   },
   "outputs": [
    {
     "data": {
      "text/plain": [
       "PassengerId       0\n",
       "Survived        418\n",
       "Pclass            0\n",
       "Name              0\n",
       "Sex               0\n",
       "Age             256\n",
       "SibSp             0\n",
       "Parch             0\n",
       "Ticket            0\n",
       "Fare              1\n",
       "Cabin          1007\n",
       "Embarked          2\n",
       "dtype: int64"
      ]
     },
     "execution_count": 133,
     "metadata": {},
     "output_type": "execute_result"
    }
   ],
   "source": [
    "# Fill empty and NaNs values with NaN\n",
    "dataset = dataset.fillna(np.nan)\n",
    "\n",
    "# Check for Null values\n",
    "dataset.isnull().sum()"
   ]
  },
  {
   "cell_type": "markdown",
   "id": "3dd2e88e",
   "metadata": {
    "_cell_guid": "5778e530-6696-41d8-92b3-967d2c55e0da",
    "_uuid": "5f1bf1e1ee1fc25f8e95dc07d10913d86d3043fc",
    "papermill": {
     "duration": 0.017445,
     "end_time": "2025-01-31T14:09:24.274197",
     "exception": false,
     "start_time": "2025-01-31T14:09:24.256752",
     "status": "completed"
    },
    "tags": []
   },
   "source": [
    "Age e Cabin possuem muitos valores faltando!"
   ]
  },
  {
   "cell_type": "markdown",
   "id": "cef43eb2",
   "metadata": {
    "_cell_guid": "7ffe56c3-62ea-4b79-8e56-ed11e6d25142",
    "_uuid": "218f6ebf257b55bcf3266f74b958679ccdc9bbf0",
    "papermill": {
     "duration": 0.019635,
     "end_time": "2025-01-31T14:09:24.315261",
     "exception": false,
     "start_time": "2025-01-31T14:09:24.295626",
     "status": "completed"
    },
    "tags": []
   },
   "source": [
    "## Análise Exploratória de Dados"
   ]
  },
  {
   "cell_type": "code",
   "execution_count": 134,
   "id": "21fbed68",
   "metadata": {
    "_cell_guid": "fde3ce29-4d9c-4e08-88fa-da5a8b549299",
    "_execution_state": "idle",
    "_uuid": "a5218179856b08c053c2548618b57267eccb4126",
    "execution": {
     "iopub.execute_input": "2025-01-31T14:09:24.352361Z",
     "iopub.status.busy": "2025-01-31T14:09:24.351991Z",
     "iopub.status.idle": "2025-01-31T14:09:24.959611Z",
     "shell.execute_reply": "2025-01-31T14:09:24.958488Z"
    },
    "papermill": {
     "duration": 0.626309,
     "end_time": "2025-01-31T14:09:24.961507",
     "exception": false,
     "start_time": "2025-01-31T14:09:24.335198",
     "status": "completed"
    },
    "tags": []
   },
   "outputs": [
    {
     "data": {
      "image/png": "[encoded data removed]",
      "text/plain": [
       "<Figure size 432x288 with 2 Axes>"
      ]
     },
     "metadata": {},
     "output_type": "display_data"
    }
   ],
   "source": [
    "# Correlation matrix between numerical values (SibSp Parch Age and Fare values) and Survived \n",
    "g = sns.heatmap(train[[\"Survived\",\"SibSp\",\"Parch\",\"Age\",\"Fare\"]].corr(),annot=True, fmt = \".2f\", cmap = \"coolwarm\")"
   ]
  },
  {
   "cell_type": "markdown",
   "id": "2711ceaf",
   "metadata": {
    "_cell_guid": "acd799d6-f7e7-4d18-8fd9-7dc624d89e30",
    "_uuid": "5ede7ba881caee38288e106cb6b897d88bdb70f7",
    "papermill": {
     "duration": 0.016543,
     "end_time": "2025-01-31T14:09:24.995052",
     "exception": false,
     "start_time": "2025-01-31T14:09:24.978509",
     "status": "completed"
    },
    "tags": []
   },
   "source": [
    "Apenas a variável Fare parece ter uma correlação significativa com a probabilidade de sobrevivência.\n",
    "\n",
    "Isso não significa que as outras variáveis não sejam úteis. Algumas subpopulações dentro dessas variáveis podem estar correlacionadas com a sobrevivência. Para determinar isso, precisamos explorar essas variáveis em mais detalhes."
   ]
  },
  {
   "cell_type": "markdown",
   "id": "d54ed3f6",
   "metadata": {
    "_cell_guid": "11fd0afb-2433-420c-94f8-c2fac051e1a3",
    "_uuid": "e41320df234bfc830faa9352d6211b0253fcb9aa",
    "papermill": {
     "duration": 0.017034,
     "end_time": "2025-01-31T14:09:25.028738",
     "exception": false,
     "start_time": "2025-01-31T14:09:25.011704",
     "status": "completed"
    },
    "tags": []
   },
   "source": [
    "#### SibSP"
   ]
  },
  {
   "cell_type": "markdown",
   "id": "8f558c4f",
   "metadata": {
    "papermill": {
     "duration": 0.016489,
     "end_time": "2025-01-31T14:09:25.062032",
     "exception": false,
     "start_time": "2025-01-31T14:09:25.045543",
     "status": "completed"
    },
    "tags": []
   },
   "source": [
    "* SibSp (Siblings/Spouses) indica o número de irmãos (siblings) e cônjuges (spouses) que um passageiro tinha a bordo."
   ]
  },
  {
   "cell_type": "code",
   "execution_count": 135,
   "id": "e7e727f9",
   "metadata": {
    "_cell_guid": "c15217da-0db5-4386-aa8a-da06cd0bfc1c",
    "_execution_state": "idle",
    "_uuid": "b4418a9f2447787aca13b17898d52d8c1cd59b1b",
    "execution": {
     "iopub.execute_input": "2025-01-31T14:09:25.099024Z",
     "iopub.status.busy": "2025-01-31T14:09:25.098631Z",
     "iopub.status.idle": "2025-01-31T14:09:25.601423Z",
     "shell.execute_reply": "2025-01-31T14:09:25.600237Z"
    },
    "papermill": {
     "duration": 0.523911,
     "end_time": "2025-01-31T14:09:25.603193",
     "exception": false,
     "start_time": "2025-01-31T14:09:25.079282",
     "status": "completed"
    },
    "scrolled": true,
    "tags": []
   },
   "outputs": [
    {
     "data": {
      "image/png": "[encoded data removed]",
      "text/plain": [
       "<Figure size 432x288 with 1 Axes>"
      ]
     },
     "metadata": {},
     "output_type": "display_data"
    }
   ],
   "source": [
    "survived_sibsp = train.groupby('SibSp')['Survived'].mean().reset_index()\n",
    "g = sns.barplot(x='SibSp', y='Survived', data=survived_sibsp, hue=\"SibSp\", palette='coolwarm')\n",
    "g.set_ylabel('Probabilidade de Sobrevivência')\n",
    "g.set_xlabel('SibSp')\n",
    "g.set_title('Probabilidade de Sobrevivência por SibSp')\n",
    "plt.show()"
   ]
  },
  {
   "cell_type": "markdown",
   "id": "a02a030f",
   "metadata": {
    "_cell_guid": "839527e6-a5dc-4556-b0a8-3a682b389292",
    "_uuid": "15479b1b8c9115df11f8f4fe7efcc5cc4ecbb27e",
    "papermill": {
     "duration": 0.017456,
     "end_time": "2025-01-31T14:09:25.638697",
     "exception": false,
     "start_time": "2025-01-31T14:09:25.621241",
     "status": "completed"
    },
    "tags": []
   },
   "source": [
    "Parece que passageiros com muitos irmãos/cônjuges têm menos chances de sobreviver.\n",
    "\n",
    "Passageiros que viajaram sozinhos (SibSp = 0) ou acompanhados por até duas pessoas (SibSp = 1 ou 2) têm mais chances de sobreviver."
   ]
  },
  {
   "cell_type": "markdown",
   "id": "cdd425e6",
   "metadata": {
    "_cell_guid": "131a75ea-f5a4-436a-9c16-c2ce24348c2b",
    "_uuid": "26ceb23758e2faebf3aac0ba072114a493ebf52c",
    "papermill": {
     "duration": 0.017093,
     "end_time": "2025-01-31T14:09:25.674884",
     "exception": false,
     "start_time": "2025-01-31T14:09:25.657791",
     "status": "completed"
    },
    "tags": []
   },
   "source": [
    "#### Parch"
   ]
  },
  {
   "cell_type": "markdown",
   "id": "4aac6e69",
   "metadata": {
    "papermill": {
     "duration": 0.017803,
     "end_time": "2025-01-31T14:09:25.710257",
     "exception": false,
     "start_time": "2025-01-31T14:09:25.692454",
     "status": "completed"
    },
    "tags": []
   },
   "source": [
    "* Parch (Parents/Children) indica o número de pais ou filhos que um passageiro tinha a bordo. Se for 0, significa que a pessoa viajava sozinha, sem pais ou filhos."
   ]
  },
  {
   "cell_type": "code",
   "execution_count": 136,
   "id": "77da1764",
   "metadata": {
    "_cell_guid": "7aac2377-8199-4afb-9cb2-b397c240f6c1",
    "_execution_state": "idle",
    "_uuid": "04b13f92bcdae2fbc4519a1f060d494510d34b87",
    "execution": {
     "iopub.execute_input": "2025-01-31T14:09:25.746474Z",
     "iopub.status.busy": "2025-01-31T14:09:25.746059Z",
     "iopub.status.idle": "2025-01-31T14:09:26.339596Z",
     "shell.execute_reply": "2025-01-31T14:09:26.338308Z"
    },
    "papermill": {
     "duration": 0.613919,
     "end_time": "2025-01-31T14:09:26.341593",
     "exception": false,
     "start_time": "2025-01-31T14:09:25.727674",
     "status": "completed"
    },
    "tags": []
   },
   "outputs": [
    {
     "data": {
      "image/png": "[encoded data removed]",
      "text/plain": [
       "<Figure size 432x288 with 1 Axes>"
      ]
     },
     "metadata": {},
     "output_type": "display_data"
    }
   ],
   "source": [
    "survived_parch = train.groupby('Parch')['Survived'].mean().reset_index()\n",
    "g = sns.barplot(x='Parch', y='Survived', data=survived_parch, hue='Parch', palette='coolwarm')\n",
    "g.set_ylabel('Probabilidade de Sobrevivência')\n",
    "g.set_xlabel('Parch')\n",
    "g.set_title('Probabilidade de Sobrevivência por Parch')\n",
    "plt.show()"
   ]
  },
  {
   "cell_type": "markdown",
   "id": "c8ea7295",
   "metadata": {
    "_cell_guid": "5789d2d4-5ce4-4183-bac0-196d1ecf94bc",
    "_uuid": "a64b39fbd5708935837b5d18c19083517574d57d",
    "papermill": {
     "duration": 0.018017,
     "end_time": "2025-01-31T14:09:26.378298",
     "exception": false,
     "start_time": "2025-01-31T14:09:26.360281",
     "status": "completed"
    },
    "tags": []
   },
   "source": [
    "Parece que famílias pequenas tiveram mais chance de sobreviver!\n",
    "\n",
    "Pessoas sem pais ou filhos provavelmente não tiveram muita ajuda e famílias grandes podem ter se preocupado demais com os demais familiares."
   ]
  },
  {
   "cell_type": "markdown",
   "id": "2fc2cb16",
   "metadata": {
    "_cell_guid": "dd2fe3e5-9e86-4277-9072-1c85cb966018",
    "_uuid": "a8b30fcc2716cd17669ede9420f9d39f5b4d4b80",
    "papermill": {
     "duration": 0.018041,
     "end_time": "2025-01-31T14:09:26.414637",
     "exception": false,
     "start_time": "2025-01-31T14:09:26.396596",
     "status": "completed"
    },
    "tags": []
   },
   "source": [
    "#### Age"
   ]
  },
  {
   "cell_type": "code",
   "execution_count": 137,
   "id": "9bad89ab",
   "metadata": {
    "_cell_guid": "a4309d84-63a9-4e26-a718-6f78d1225963",
    "_execution_state": "idle",
    "_uuid": "ed8b275b34f15bb14b971dbb66a53f72dfff224c",
    "execution": {
     "iopub.execute_input": "2025-01-31T14:09:26.453292Z",
     "iopub.status.busy": "2025-01-31T14:09:26.452911Z",
     "iopub.status.idle": "2025-01-31T14:09:27.532636Z",
     "shell.execute_reply": "2025-01-31T14:09:27.531128Z"
    },
    "papermill": {
     "duration": 1.101543,
     "end_time": "2025-01-31T14:09:27.534459",
     "exception": false,
     "start_time": "2025-01-31T14:09:26.432916",
     "status": "completed"
    },
    "tags": []
   },
   "outputs": [
    {
     "name": "stderr",
     "output_type": "stream",
     "text": [
      "/home/guilherme/anaconda3/lib/python3.9/site-packages/seaborn/axisgrid.py:703: FutureWarning: iteritems is deprecated and will be removed in a future version. Use .items instead.\n",
      "  plot_args = [v for k, v in plot_data.iteritems()]\n",
      "/home/guilherme/anaconda3/lib/python3.9/site-packages/seaborn/axisgrid.py:703: FutureWarning: iteritems is deprecated and will be removed in a future version. Use .items instead.\n",
      "  plot_args = [v for k, v in plot_data.iteritems()]\n"
     ]
    },
    {
     "data": {
      "text/plain": [
       "<seaborn.axisgrid.FacetGrid at 0x70c36ce51940>"
      ]
     },
     "execution_count": 137,
     "metadata": {},
     "output_type": "execute_result"
    },
    {
     "data": {
      "image/png": "[encoded data removed]",
      "text/plain": [
       "<Figure size 864x360 with 2 Axes>"
      ]
     },
     "metadata": {},
     "output_type": "display_data"
    }
   ],
   "source": [
    "# Explore Age vs Survived\n",
    "g = sns.FacetGrid(train, col='Survived', palette='coolwarm', height=5, aspect=1.2)\n",
    "g.map(plt.hist, \"Age\", bins=20, color=\"blue\", alpha=0.7)"
   ]
  },
  {
   "cell_type": "code",
   "execution_count": 138,
   "id": "b33cc386",
   "metadata": {
    "_cell_guid": "c379f4eb-ee82-44d8-8e65-06abbc86e9b5",
    "_execution_state": "idle",
    "_uuid": "4a5369826101a978d15c94f93bdedd2b17fd8c1d",
    "execution": {
     "iopub.execute_input": "2025-01-31T14:09:27.574467Z",
     "iopub.status.busy": "2025-01-31T14:09:27.574077Z",
     "iopub.status.idle": "2025-01-31T14:09:27.927722Z",
     "shell.execute_reply": "2025-01-31T14:09:27.926539Z"
    },
    "papermill": {
     "duration": 0.376037,
     "end_time": "2025-01-31T14:09:27.929785",
     "exception": false,
     "start_time": "2025-01-31T14:09:27.553748",
     "status": "completed"
    },
    "tags": []
   },
   "outputs": [
    {
     "data": {
      "image/png": "[encoded data removed]",
      "text/plain": [
       "<Figure size 432x288 with 1 Axes>"
      ]
     },
     "metadata": {},
     "output_type": "display_data"
    }
   ],
   "source": [
    "# Explore Age distibution \n",
    "g = sns.kdeplot(train[\"Age\"][(train[\"Survived\"] == 0) & (train[\"Age\"].notnull())], color=\"Red\", fill = True)\n",
    "g = sns.kdeplot(train[\"Age\"][(train[\"Survived\"] == 1) & (train[\"Age\"].notnull())], ax =g, color=\"Blue\", fill= True)\n",
    "g.set_xlabel(\"Age\")\n",
    "g.set_ylabel(\"Frequency\")\n",
    "g = g.legend([\"Not Survived\",\"Survived\"])"
   ]
  },
  {
   "cell_type": "markdown",
   "id": "121efce2",
   "metadata": {
    "_cell_guid": "f1d88140-c375-425b-8e0b-502cf3aa4642",
    "_uuid": "88463791e6c769306874f56ff8ff4f1e4dc599ad",
    "papermill": {
     "duration": 0.020116,
     "end_time": "2025-01-31T14:09:27.971061",
     "exception": false,
     "start_time": "2025-01-31T14:09:27.950945",
     "status": "completed"
    },
    "tags": []
   },
   "source": [
    "Percebemos que as distribuições de idade não são as mesmas entre as subpopulações de sobreviventes e não sobreviventes. De fato, há um pico correspondente a passageiros jovens que sobreviveram. Também observamos que passageiros entre 60 e 80 anos tiveram menor taxa de sobrevivência.\n",
    "\n",
    "Portanto, mesmo que \"Age\" não esteja fortemente correlacionada com \"Survived\", podemos notar que certas faixas etárias têm mais ou menos chances de sobreviver.\n",
    "\n",
    "Parece que passageiros muito jovens têm maiores chances de sobreviver."
   ]
  },
  {
   "cell_type": "markdown",
   "id": "cb94f063",
   "metadata": {
    "_cell_guid": "760abd84-1f67-4e94-acd1-884565c51f22",
    "_uuid": "a1928defede25526b073cdea62bf22f0889b619e",
    "papermill": {
     "duration": 0.020577,
     "end_time": "2025-01-31T14:09:28.011857",
     "exception": false,
     "start_time": "2025-01-31T14:09:27.991280",
     "status": "completed"
    },
    "tags": []
   },
   "source": [
    "#### Fare"
   ]
  },
  {
   "cell_type": "code",
   "execution_count": 139,
   "id": "1a436727",
   "metadata": {
    "_cell_guid": "15f0186d-e558-4699-8870-e9e5f3870c28",
    "_execution_state": "idle",
    "_uuid": "996872cb6ba14f9d05b1cc2cf20db7234d575aa5",
    "execution": {
     "iopub.execute_input": "2025-01-31T14:09:28.053790Z",
     "iopub.status.busy": "2025-01-31T14:09:28.053413Z",
     "iopub.status.idle": "2025-01-31T14:09:28.060509Z",
     "shell.execute_reply": "2025-01-31T14:09:28.059450Z"
    },
    "papermill": {
     "duration": 0.029999,
     "end_time": "2025-01-31T14:09:28.062154",
     "exception": false,
     "start_time": "2025-01-31T14:09:28.032155",
     "status": "completed"
    },
    "tags": []
   },
   "outputs": [
    {
     "data": {
      "text/plain": [
       "1"
      ]
     },
     "execution_count": 139,
     "metadata": {},
     "output_type": "execute_result"
    }
   ],
   "source": [
    "dataset[\"Fare\"].isnull().sum()"
   ]
  },
  {
   "cell_type": "markdown",
   "id": "c6db3237",
   "metadata": {
    "papermill": {
     "duration": 0.019904,
     "end_time": "2025-01-31T14:09:28.102464",
     "exception": false,
     "start_time": "2025-01-31T14:09:28.082560",
     "status": "completed"
    },
    "tags": []
   },
   "source": [
    "* Vamos tratar o valor faltante de Fare. Como é apenas uma amostra, vamos apesar usar a mediana."
   ]
  },
  {
   "cell_type": "code",
   "execution_count": 140,
   "id": "3759c095",
   "metadata": {
    "_cell_guid": "90c3f7d2-c9ee-4946-94b1-201078f09f07",
    "_execution_state": "idle",
    "_uuid": "f5c6d105729429193b02519bfac8596d190aa561",
    "execution": {
     "iopub.execute_input": "2025-01-31T14:09:28.146892Z",
     "iopub.status.busy": "2025-01-31T14:09:28.146507Z",
     "iopub.status.idle": "2025-01-31T14:09:28.151995Z",
     "shell.execute_reply": "2025-01-31T14:09:28.150801Z"
    },
    "papermill": {
     "duration": 0.031072,
     "end_time": "2025-01-31T14:09:28.153861",
     "exception": false,
     "start_time": "2025-01-31T14:09:28.122789",
     "status": "completed"
    },
    "tags": []
   },
   "outputs": [],
   "source": [
    "#Fill Fare missing values with the median value\n",
    "dataset[\"Fare\"] = dataset[\"Fare\"].fillna(dataset[\"Fare\"].median())"
   ]
  },
  {
   "cell_type": "code",
   "execution_count": 141,
   "id": "a521380d",
   "metadata": {
    "_cell_guid": "1454fa14-9456-4539-a59a-f16cc75cdc69",
    "_execution_state": "idle",
    "_uuid": "2462ac5ccc31009f6cbf40ece06949b192f0a4e9",
    "execution": {
     "iopub.execute_input": "2025-01-31T14:09:28.196180Z",
     "iopub.status.busy": "2025-01-31T14:09:28.195813Z",
     "iopub.status.idle": "2025-01-31T14:09:28.548719Z",
     "shell.execute_reply": "2025-01-31T14:09:28.547479Z"
    },
    "papermill": {
     "duration": 0.376242,
     "end_time": "2025-01-31T14:09:28.550631",
     "exception": false,
     "start_time": "2025-01-31T14:09:28.174389",
     "status": "completed"
    },
    "scrolled": true,
    "tags": []
   },
   "outputs": [
    {
     "data": {
      "image/png": "[encoded data removed]",
      "text/plain": [
       "<Figure size 720x432 with 1 Axes>"
      ]
     },
     "metadata": {},
     "output_type": "display_data"
    }
   ],
   "source": [
    "plt.figure(figsize=(10, 6))\n",
    "sns.histplot(dataset['Fare'], kde=True, color='blue', bins=30)\n",
    "plt.title('Fare Distribution')\n",
    "plt.xlabel('Fare')\n",
    "plt.ylabel('Frequency')\n",
    "plt.show()"
   ]
  },
  {
   "cell_type": "markdown",
   "id": "248150e4",
   "metadata": {
    "_cell_guid": "2cf49b8b-499a-4de6-a174-bbe503351175",
    "_uuid": "3e47c0f302f6299cef1ddaba0b275a74402bf0d9",
    "papermill": {
     "duration": 0.020646,
     "end_time": "2025-01-31T14:09:28.592628",
     "exception": false,
     "start_time": "2025-01-31T14:09:28.571982",
     "status": "completed"
    },
    "tags": []
   },
   "source": [
    "Como podemos ver, a distribuição da variável Fare é muito distorcida. Isso pode fazer com que valores muito altos tenham um peso exagerado no modelo, mesmo após a normalização.\n",
    "\n",
    "Nesse caso, é melhor aplicar a transformação logarítmica para reduzir essa distorção."
   ]
  },
  {
   "cell_type": "code",
   "execution_count": 142,
   "id": "29897801",
   "metadata": {
    "_cell_guid": "4421ac6c-962c-474f-9122-348ebd296a34",
    "_execution_state": "idle",
    "_uuid": "1617d3ab789e8786937d52fe361bbdee5d652579",
    "execution": {
     "iopub.execute_input": "2025-01-31T14:09:28.635967Z",
     "iopub.status.busy": "2025-01-31T14:09:28.635544Z",
     "iopub.status.idle": "2025-01-31T14:09:28.643415Z",
     "shell.execute_reply": "2025-01-31T14:09:28.642182Z"
    },
    "papermill": {
     "duration": 0.031877,
     "end_time": "2025-01-31T14:09:28.645427",
     "exception": false,
     "start_time": "2025-01-31T14:09:28.613550",
     "status": "completed"
    },
    "tags": []
   },
   "outputs": [],
   "source": [
    "dataset[\"Fare\"] = dataset[\"Fare\"].map(lambda i: np.log(i) if i > 0 else 0)"
   ]
  },
  {
   "cell_type": "code",
   "execution_count": 143,
   "id": "5e293c0c",
   "metadata": {
    "_cell_guid": "58b056da-fee0-45a0-b650-613068dede6f",
    "_execution_state": "idle",
    "_uuid": "2601083c78b9d16b52cc0a2cd36dabc22b109e9d",
    "execution": {
     "iopub.execute_input": "2025-01-31T14:09:28.739618Z",
     "iopub.status.busy": "2025-01-31T14:09:28.739206Z",
     "iopub.status.idle": "2025-01-31T14:09:29.089893Z",
     "shell.execute_reply": "2025-01-31T14:09:29.088515Z"
    },
    "papermill": {
     "duration": 0.37505,
     "end_time": "2025-01-31T14:09:29.091933",
     "exception": false,
     "start_time": "2025-01-31T14:09:28.716883",
     "status": "completed"
    },
    "tags": []
   },
   "outputs": [
    {
     "data": {
      "image/png": "[encoded data removed]",
      "text/plain": [
       "<Figure size 720x432 with 1 Axes>"
      ]
     },
     "metadata": {},
     "output_type": "display_data"
    }
   ],
   "source": [
    "plt.figure(figsize=(10, 6))\n",
    "sns.histplot(dataset['Fare'], kde=True, color='blue', bins=30)\n",
    "plt.title('Fare Distribution')\n",
    "plt.xlabel('Fare')\n",
    "plt.ylabel('Frequency')\n",
    "plt.show()"
   ]
  },
  {
   "cell_type": "markdown",
   "id": "19408926",
   "metadata": {
    "_cell_guid": "2056cac5-8405-432c-8026-f4fb6a895fb9",
    "_uuid": "a6545d5a0816088a56dab37ba10ae93e26375068",
    "papermill": {
     "duration": 0.022135,
     "end_time": "2025-01-31T14:09:29.136603",
     "exception": false,
     "start_time": "2025-01-31T14:09:29.114468",
     "status": "completed"
    },
    "tags": []
   },
   "source": [
    "### Features Categóricas\n",
    "#### Sex"
   ]
  },
  {
   "cell_type": "code",
   "execution_count": 144,
   "id": "b99ce860",
   "metadata": {
    "_cell_guid": "2cf795ef-abad-474e-a75b-e6eaac6c4881",
    "_execution_state": "idle",
    "_uuid": "08798e4e7aec09c85f1c678eea529ef4bbea3335",
    "execution": {
     "iopub.execute_input": "2025-01-31T14:09:29.182304Z",
     "iopub.status.busy": "2025-01-31T14:09:29.181883Z",
     "iopub.status.idle": "2025-01-31T14:09:29.915868Z",
     "shell.execute_reply": "2025-01-31T14:09:29.914558Z"
    },
    "papermill": {
     "duration": 0.758667,
     "end_time": "2025-01-31T14:09:29.917765",
     "exception": false,
     "start_time": "2025-01-31T14:09:29.159098",
     "status": "completed"
    },
    "tags": []
   },
   "outputs": [
    {
     "name": "stderr",
     "output_type": "stream",
     "text": [
      "/home/guilherme/anaconda3/lib/python3.9/site-packages/seaborn/axisgrid.py:703: FutureWarning: iteritems is deprecated and will be removed in a future version. Use .items instead.\n",
      "  plot_args = [v for k, v in plot_data.iteritems()]\n",
      "/home/guilherme/anaconda3/lib/python3.9/site-packages/seaborn/axisgrid.py:703: FutureWarning: iteritems is deprecated and will be removed in a future version. Use .items instead.\n",
      "  plot_args = [v for k, v in plot_data.iteritems()]\n"
     ]
    },
    {
     "data": {
      "text/plain": [
       "<seaborn.axisgrid.FacetGrid at 0x70c36ce51b20>"
      ]
     },
     "execution_count": 144,
     "metadata": {},
     "output_type": "execute_result"
    },
    {
     "data": {
      "image/png": "[encoded data removed]",
      "text/plain": [
       "<Figure size 864x360 with 2 Axes>"
      ]
     },
     "metadata": {},
     "output_type": "display_data"
    }
   ],
   "source": [
    "g = sns.FacetGrid(train, col='Survived', palette='coolwarm', height=5, aspect=1.2)\n",
    "g.map(plt.hist, \"Sex\", color=\"blue\", alpha=0.7)"
   ]
  },
  {
   "cell_type": "markdown",
   "id": "b75de516",
   "metadata": {
    "_cell_guid": "6da51b35-4e09-4abb-ab09-b9307e5d7142",
    "_uuid": "efd0ea6213489b362c11bf7fbfb0c20cf9ab1644",
    "papermill": {
     "duration": 0.022454,
     "end_time": "2025-01-31T14:09:29.963309",
     "exception": false,
     "start_time": "2025-01-31T14:09:29.940855",
     "status": "completed"
    },
    "tags": []
   },
   "source": [
    "Homens tiveram menos chances de sobrevivência.\n",
    "\n",
    "\"Women and children first\". "
   ]
  },
  {
   "cell_type": "markdown",
   "id": "96edbe04",
   "metadata": {
    "_cell_guid": "fc62793d-b0fe-47f1-8a60-0fc10974d916",
    "_uuid": "25bda5a815d2789c5ea5b6fbd153bc3c4751ea66",
    "papermill": {
     "duration": 0.022844,
     "end_time": "2025-01-31T14:09:30.009057",
     "exception": false,
     "start_time": "2025-01-31T14:09:29.986213",
     "status": "completed"
    },
    "tags": []
   },
   "source": [
    "#### Pclass\n",
    "Representa a classe da passagem do passageiro. Ela indica a categoria socioeconômica em que o passageiro estava viajando. "
   ]
  },
  {
   "cell_type": "code",
   "execution_count": 145,
   "id": "abb31b84",
   "metadata": {
    "execution": {
     "iopub.execute_input": "2025-01-31T14:09:30.057225Z",
     "iopub.status.busy": "2025-01-31T14:09:30.056858Z",
     "iopub.status.idle": "2025-01-31T14:09:30.366429Z",
     "shell.execute_reply": "2025-01-31T14:09:30.365250Z"
    },
    "papermill": {
     "duration": 0.336829,
     "end_time": "2025-01-31T14:09:30.368804",
     "exception": false,
     "start_time": "2025-01-31T14:09:30.031975",
     "status": "completed"
    },
    "tags": []
   },
   "outputs": [
    {
     "data": {
      "image/png": "[encoded data removed]",
      "text/plain": [
       "<Figure size 432x288 with 1 Axes>"
      ]
     },
     "metadata": {},
     "output_type": "display_data"
    }
   ],
   "source": [
    "survived_pclass = train.groupby('Pclass')['Survived'].mean().reset_index()\n",
    "g = sns.barplot(x='Pclass', y='Survived', data=survived_pclass, hue='Pclass', palette='coolwarm')\n",
    "g.set_ylabel('Probabilidade de Sobrevivência')\n",
    "g.set_xlabel('Pclass')\n",
    "g.set_title('Probabilidade de Sobrevivência por Pclass')\n",
    "plt.show()"
   ]
  },
  {
   "cell_type": "markdown",
   "id": "92c3cf0b",
   "metadata": {
    "_cell_guid": "4ef3e7a8-c133-4108-ae39-d830d803c83d",
    "_uuid": "a9f34268073edf98913f04bb78e9ce1df9f2c45b",
    "papermill": {
     "duration": 0.023854,
     "end_time": "2025-01-31T14:09:30.424815",
     "exception": false,
     "start_time": "2025-01-31T14:09:30.400961",
     "status": "completed"
    },
    "tags": []
   },
   "source": [
    "Passageiros da primeira e segunda classe tiveram mais chance de sobrevivência do que paassageiros da terceira classe."
   ]
  },
  {
   "cell_type": "markdown",
   "id": "fe2877f0",
   "metadata": {
    "_cell_guid": "bd9a2e84-de2f-4d22-8a8a-d9b77153914a",
    "_uuid": "c33615408606b88ac50ea2596574030cafe6ca56",
    "papermill": {
     "duration": 0.024179,
     "end_time": "2025-01-31T14:09:30.472676",
     "exception": false,
     "start_time": "2025-01-31T14:09:30.448497",
     "status": "completed"
    },
    "tags": []
   },
   "source": [
    "#### Embarked\n",
    "Representa o porto de embarque do passageiro.\n",
    "\n",
    "* C = Cherbourg (França)\n",
    "\n",
    "* Q = Queenstown (atual Cobh, Irlanda)\n",
    "\n",
    "* S = Southampton (Inglaterra)"
   ]
  },
  {
   "cell_type": "code",
   "execution_count": 146,
   "id": "ddf27aaf",
   "metadata": {
    "_cell_guid": "25335bd6-f586-4e80-9424-52d5391c7d90",
    "_execution_state": "idle",
    "_uuid": "6c62328f8ed218a94ad20d68179890d2b7e26c54",
    "execution": {
     "iopub.execute_input": "2025-01-31T14:09:30.523058Z",
     "iopub.status.busy": "2025-01-31T14:09:30.522544Z",
     "iopub.status.idle": "2025-01-31T14:09:30.530933Z",
     "shell.execute_reply": "2025-01-31T14:09:30.529760Z"
    },
    "papermill": {
     "duration": 0.035802,
     "end_time": "2025-01-31T14:09:30.533148",
     "exception": false,
     "start_time": "2025-01-31T14:09:30.497346",
     "status": "completed"
    },
    "tags": []
   },
   "outputs": [
    {
     "data": {
      "text/plain": [
       "2"
      ]
     },
     "execution_count": 146,
     "metadata": {},
     "output_type": "execute_result"
    }
   ],
   "source": [
    "dataset[\"Embarked\"].isnull().sum()"
   ]
  },
  {
   "cell_type": "markdown",
   "id": "54a5ac08",
   "metadata": {
    "papermill": {
     "duration": 0.023157,
     "end_time": "2025-01-31T14:09:30.587700",
     "exception": false,
     "start_time": "2025-01-31T14:09:30.564543",
     "status": "completed"
    },
    "tags": []
   },
   "source": [
    "* Vamos tratar os valores faltante. Como são apenas duas amostra, vamos apesar usar o valor mais frequente."
   ]
  },
  {
   "cell_type": "code",
   "execution_count": 147,
   "id": "eeb103d9",
   "metadata": {
    "_cell_guid": "369b4640-1f93-464f-9668-c128dee6ce8f",
    "_execution_state": "idle",
    "_uuid": "12606e718a36c7743e313d5b511f824525fa758c",
    "execution": {
     "iopub.execute_input": "2025-01-31T14:09:30.636575Z",
     "iopub.status.busy": "2025-01-31T14:09:30.635961Z",
     "iopub.status.idle": "2025-01-31T14:09:30.644430Z",
     "shell.execute_reply": "2025-01-31T14:09:30.643139Z"
    },
    "papermill": {
     "duration": 0.035211,
     "end_time": "2025-01-31T14:09:30.646454",
     "exception": false,
     "start_time": "2025-01-31T14:09:30.611243",
     "status": "completed"
    },
    "tags": []
   },
   "outputs": [],
   "source": [
    "dataset[\"Embarked\"] = dataset[\"Embarked\"].fillna(dataset[\"Embarked\"].mode())"
   ]
  },
  {
   "cell_type": "code",
   "execution_count": 148,
   "id": "e3f9d5f7",
   "metadata": {
    "_cell_guid": "562a0ddb-6dcc-4def-a73d-405e4ccd12e8",
    "_execution_state": "idle",
    "_uuid": "3bbb9f7fcbae67b9c12f021e3a3b71a031b8d882",
    "execution": {
     "iopub.execute_input": "2025-01-31T14:09:30.696700Z",
     "iopub.status.busy": "2025-01-31T14:09:30.696159Z",
     "iopub.status.idle": "2025-01-31T14:09:30.994859Z",
     "shell.execute_reply": "2025-01-31T14:09:30.992528Z"
    },
    "papermill": {
     "duration": 0.326304,
     "end_time": "2025-01-31T14:09:30.997247",
     "exception": false,
     "start_time": "2025-01-31T14:09:30.670943",
     "status": "completed"
    },
    "tags": []
   },
   "outputs": [
    {
     "data": {
      "image/png": "[encoded data removed]",
      "text/plain": [
       "<Figure size 432x288 with 1 Axes>"
      ]
     },
     "metadata": {},
     "output_type": "display_data"
    }
   ],
   "source": [
    "survived_embarked = train.groupby('Embarked')['Survived'].mean().reset_index()\n",
    "g = sns.barplot(x='Embarked', y='Survived', data=survived_embarked, hue='Embarked', palette='coolwarm')\n",
    "g.set_ylabel('Probabilidade de Sobrevivência')\n",
    "g.set_xlabel('Embarked')\n",
    "g.set_title('Probabilidade de Sobrevivência por Embarked')\n",
    "plt.show()"
   ]
  },
  {
   "cell_type": "markdown",
   "id": "661b7de9",
   "metadata": {
    "_cell_guid": "038f677b-890f-4e38-a583-a4ac1ebce9c3",
    "_uuid": "6be5bbde5aa8d0c7fb4535977b20f3da705bdfc1",
    "papermill": {
     "duration": 0.024745,
     "end_time": "2025-01-31T14:09:31.048309",
     "exception": false,
     "start_time": "2025-01-31T14:09:31.023564",
     "status": "completed"
    },
    "tags": []
   },
   "source": [
    "Passageiros que embarcaram na França tiveram mais chances de sobreviver.\n",
    "\n",
    "Uma hipótese é que o pessoal que embarcou na França estavam majoritariamente na primeira e segunda classe.\n",
    "\n",
    "Vamos ver a distribuição de Embarked contra Pclass"
   ]
  },
  {
   "cell_type": "code",
   "execution_count": 149,
   "id": "bd1de016",
   "metadata": {
    "_cell_guid": "bff15a05-8876-474b-a727-7b7fe64e379d",
    "_execution_state": "idle",
    "_uuid": "dc440987e63199b551fa5d2d3d7b473cd1e5aaa8",
    "execution": {
     "iopub.execute_input": "2025-01-31T14:09:31.100279Z",
     "iopub.status.busy": "2025-01-31T14:09:31.099854Z",
     "iopub.status.idle": "2025-01-31T14:09:32.074005Z",
     "shell.execute_reply": "2025-01-31T14:09:32.072774Z"
    },
    "papermill": {
     "duration": 1.003223,
     "end_time": "2025-01-31T14:09:32.075978",
     "exception": false,
     "start_time": "2025-01-31T14:09:31.072755",
     "status": "completed"
    },
    "tags": []
   },
   "outputs": [
    {
     "data": {
      "image/png": "[encoded data removed]",
      "text/plain": [
       "<Figure size 1296x432 with 3 Axes>"
      ]
     },
     "metadata": {},
     "output_type": "display_data"
    }
   ],
   "source": [
    "# Explore Pclass vs Embarked \n",
    "g = sns.catplot(x=\"Pclass\", col=\"Embarked\", data=train,\n",
    "                height=6, kind=\"count\", hue=\"Pclass\",palette=\"coolwarm\")\n",
    "g.despine(left=True)\n",
    "g.set_ylabels(\"Count\")\n",
    "plt.show()"
   ]
  },
  {
   "cell_type": "markdown",
   "id": "4c49ef9e",
   "metadata": {
    "_cell_guid": "9811fd36-b4dd-4f4b-8698-2d9b4b0d5e23",
    "_uuid": "e932c14aaeb9a4acbaecc73e985e50b140d3812e",
    "papermill": {
     "duration": 0.024182,
     "end_time": "2025-01-31T14:09:32.125879",
     "exception": false,
     "start_time": "2025-01-31T14:09:32.101697",
     "status": "completed"
    },
    "tags": []
   },
   "source": [
    "## Preenchendo Valores Faltantes\n",
    "### Age\n",
    "\n",
    "Como podemos ver, a coluna Age contém 256 valores ausentes em todo o conjunto de dados.\n",
    "\n",
    "Como vimos, parece haver subpopulações com maior chance de sobrevivência (como crianças, por exemplo), é preferível manter a variável Age e imputar os valores ausentes.\n",
    "\n",
    "Para resolver esse problema, vamos analisar as variáveis mais correlacionadas com Age: Sex, Parch, Pclass e SibSP."
   ]
  },
  {
   "cell_type": "code",
   "execution_count": 150,
   "id": "c200badc",
   "metadata": {
    "_cell_guid": "bb2ce3ea-7519-40ac-b999-1a027888db27",
    "_execution_state": "idle",
    "_uuid": "785d0f035819eb3ad6c68c6ca19857d2b9affef5",
    "execution": {
     "iopub.execute_input": "2025-01-31T14:09:32.176950Z",
     "iopub.status.busy": "2025-01-31T14:09:32.176573Z",
     "iopub.status.idle": "2025-01-31T14:09:34.013177Z",
     "shell.execute_reply": "2025-01-31T14:09:34.012057Z"
    },
    "papermill": {
     "duration": 1.864066,
     "end_time": "2025-01-31T14:09:34.014896",
     "exception": false,
     "start_time": "2025-01-31T14:09:32.150830",
     "status": "completed"
    },
    "tags": []
   },
   "outputs": [
    {
     "data": {
      "image/png": "[encoded data removed]",
      "text/plain": [
       "<Figure size 360x360 with 1 Axes>"
      ]
     },
     "metadata": {},
     "output_type": "display_data"
    },
    {
     "data": {
      "image/png": "[encoded data removed]",
      "text/plain": [
       "<Figure size 360x360 with 1 Axes>"
      ]
     },
     "metadata": {},
     "output_type": "display_data"
    },
    {
     "data": {
      "image/png": "[encoded data removed]",
      "text/plain": [
       "<Figure size 360x360 with 1 Axes>"
      ]
     },
     "metadata": {},
     "output_type": "display_data"
    },
    {
     "data": {
      "image/png": "[encoded data removed]",
      "text/plain": [
       "<Figure size 360x360 with 1 Axes>"
      ]
     },
     "metadata": {},
     "output_type": "display_data"
    }
   ],
   "source": [
    "g = sns.catplot(y=\"Age\", x=\"Sex\", data=dataset, kind=\"box\", palette='coolwarm', hue=\"Sex\")\n",
    "g = sns.catplot(y=\"Age\", x=\"Pclass\", data=dataset, kind=\"box\", palette='coolwarm', hue=\"Pclass\")\n",
    "g = sns.catplot(y=\"Age\", x=\"Parch\", data=dataset, kind=\"box\", palette='coolwarm', hue=\"Parch\")\n",
    "g = sns.catplot(y=\"Age\", x=\"SibSp\", data=dataset, kind=\"box\", palette='coolwarm', hue=\"SibSp\")"
   ]
  },
  {
   "cell_type": "markdown",
   "id": "6862f932",
   "metadata": {
    "_cell_guid": "9dfde33b-39ad-4386-bfe4-e96dcce38537",
    "_uuid": "f5824df442a73ad27efd69d57fa58b0dc56cefa3",
    "papermill": {
     "duration": 0.026544,
     "end_time": "2025-01-31T14:09:34.068709",
     "exception": false,
     "start_time": "2025-01-31T14:09:34.042165",
     "status": "completed"
    },
    "tags": []
   },
   "source": [
    "A distribuição da idade parece ser a mesma entre as subpopulações masculinas e femininas, portanto, Sex não é uma variável informativa para prever Age.\n",
    "\n",
    "No entanto, passageiros da 1ª classe são mais velhos do que os da 2ª classe, que, por sua vez, são mais velhos do que os da 3ª classe.\n",
    "\n",
    "Além disso, quanto mais pais/filhos um passageiro tem, mais velho ele tende a ser, enquanto quanto mais irmãos/cônjuges ele tem, mais jovem ele tende a ser.\n",
    "\n",
    "Então, vamos usar SibSP, Parch e Pclass para imputar as idades ausentes.\n",
    "\n",
    "A estratégia consiste em preencher Age com a mediana da idade de linhas semelhantes, de acordo com Pclass, Parch e SibSP."
   ]
  },
  {
   "cell_type": "code",
   "execution_count": 151,
   "id": "19c20bd8",
   "metadata": {
    "_cell_guid": "ca8d6a01-1e2a-46e5-b6aa-cd01ec42a354",
    "_execution_state": "idle",
    "_uuid": "1e067ce9fdf528cf3a8dc88f46c70b49611f5644",
    "execution": {
     "iopub.execute_input": "2025-01-31T14:09:34.123744Z",
     "iopub.status.busy": "2025-01-31T14:09:34.123342Z",
     "iopub.status.idle": "2025-01-31T14:09:34.129661Z",
     "shell.execute_reply": "2025-01-31T14:09:34.128393Z"
    },
    "papermill": {
     "duration": 0.036215,
     "end_time": "2025-01-31T14:09:34.131670",
     "exception": false,
     "start_time": "2025-01-31T14:09:34.095455",
     "status": "completed"
    },
    "tags": []
   },
   "outputs": [],
   "source": [
    "# convert Sex into categorical value 0 for male and 1 for female\n",
    "dataset[\"Sex\"] = dataset[\"Sex\"].map({\"male\": 0, \"female\":1})"
   ]
  },
  {
   "cell_type": "code",
   "execution_count": 152,
   "id": "3b8fd2e5",
   "metadata": {
    "_cell_guid": "89e26ca5-bdbf-49e4-8c88-c4b375390e6d",
    "_execution_state": "idle",
    "_uuid": "22e12398b8f45db6087989dfe7e044090aa39b8c",
    "execution": {
     "iopub.execute_input": "2025-01-31T14:09:34.187579Z",
     "iopub.status.busy": "2025-01-31T14:09:34.187171Z",
     "iopub.status.idle": "2025-01-31T14:09:34.542569Z",
     "shell.execute_reply": "2025-01-31T14:09:34.541388Z"
    },
    "papermill": {
     "duration": 0.385411,
     "end_time": "2025-01-31T14:09:34.544807",
     "exception": false,
     "start_time": "2025-01-31T14:09:34.159396",
     "status": "completed"
    },
    "tags": []
   },
   "outputs": [],
   "source": [
    "index_NaN_age = list(dataset[\"Age\"][dataset[\"Age\"].isnull()].index)\n",
    "age_med = dataset[\"Age\"].median()\n",
    "\n",
    "for i in index_NaN_age :\n",
    "    age_pred = dataset[\"Age\"][((dataset['SibSp'] == dataset.iloc[i][\"SibSp\"]) & \n",
    "                               (dataset['Parch'] == dataset.iloc[i][\"Parch\"]) & \n",
    "                               (dataset['Pclass'] == dataset.iloc[i][\"Pclass\"]))].median()\n",
    "    dataset.loc[i, 'Age'] = age_pred if not np.isnan(age_pred) else age_med"
   ]
  },
  {
   "cell_type": "markdown",
   "id": "d7993459",
   "metadata": {
    "_cell_guid": "067743aa-d96c-42e2-9532-4dd89da1e1d6",
    "_uuid": "f34e936c0fbf6f226096db84cc9fcd92fdad82e2",
    "papermill": {
     "duration": 0.026248,
     "end_time": "2025-01-31T14:09:34.597718",
     "exception": false,
     "start_time": "2025-01-31T14:09:34.571470",
     "status": "completed"
    },
    "tags": []
   },
   "source": [
    "## Engenharia de Features\n",
    "### Name/Title"
   ]
  },
  {
   "cell_type": "code",
   "execution_count": 153,
   "id": "b105247a",
   "metadata": {
    "_cell_guid": "c249662f-7e97-4d9e-9331-1ba93b059092",
    "_execution_state": "idle",
    "_uuid": "bcd5fb033d9143ca3f37c95732216eff61d8fbf0",
    "execution": {
     "iopub.execute_input": "2025-01-31T14:09:34.652216Z",
     "iopub.status.busy": "2025-01-31T14:09:34.651814Z",
     "iopub.status.idle": "2025-01-31T14:09:34.659199Z",
     "shell.execute_reply": "2025-01-31T14:09:34.658143Z"
    },
    "papermill": {
     "duration": 0.036979,
     "end_time": "2025-01-31T14:09:34.661210",
     "exception": false,
     "start_time": "2025-01-31T14:09:34.624231",
     "status": "completed"
    },
    "tags": []
   },
   "outputs": [
    {
     "data": {
      "text/plain": [
       "0                              Braund, Mr. Owen Harris\n",
       "1    Cumings, Mrs. John Bradley (Florence Briggs Th...\n",
       "2                               Heikkinen, Miss. Laina\n",
       "3         Futrelle, Mrs. Jacques Heath (Lily May Peel)\n",
       "4                             Allen, Mr. William Henry\n",
       "Name: Name, dtype: object"
      ]
     },
     "execution_count": 153,
     "metadata": {},
     "output_type": "execute_result"
    }
   ],
   "source": [
    "dataset[\"Name\"].head()"
   ]
  },
  {
   "cell_type": "markdown",
   "id": "7a017dac",
   "metadata": {
    "_cell_guid": "9cf02535-986a-4b75-ade4-366232841d3b",
    "_uuid": "c40b6ffc4795b055f538bbfa028a57b451f0b359",
    "papermill": {
     "duration": 0.026071,
     "end_time": "2025-01-31T14:09:34.714600",
     "exception": false,
     "start_time": "2025-01-31T14:09:34.688529",
     "status": "completed"
    },
    "tags": []
   },
   "source": [
    "A variável Name contém informações sobre o título dos passageiros.\n",
    "\n",
    "Como alguns passageiros com títulos distintos podem ter sido priorizados durante a evacuação, é interessante adicionar essa informação ao modelo."
   ]
  },
  {
   "cell_type": "code",
   "execution_count": 154,
   "id": "f2a3fc00",
   "metadata": {
    "_cell_guid": "2d49cfb9-cb72-4375-91a2-c0b40f89814e",
    "_execution_state": "idle",
    "_uuid": "c16e82d04c033dadd780d4a65375d10e42cf6f63",
    "execution": {
     "iopub.execute_input": "2025-01-31T14:09:34.768901Z",
     "iopub.status.busy": "2025-01-31T14:09:34.768542Z",
     "iopub.status.idle": "2025-01-31T14:09:34.778646Z",
     "shell.execute_reply": "2025-01-31T14:09:34.777342Z"
    },
    "papermill": {
     "duration": 0.039565,
     "end_time": "2025-01-31T14:09:34.780675",
     "exception": false,
     "start_time": "2025-01-31T14:09:34.741110",
     "status": "completed"
    },
    "tags": []
   },
   "outputs": [
    {
     "data": {
      "text/plain": [
       "0      Mr\n",
       "1     Mrs\n",
       "2    Miss\n",
       "3     Mrs\n",
       "4      Mr\n",
       "Name: Title, dtype: object"
      ]
     },
     "execution_count": 154,
     "metadata": {},
     "output_type": "execute_result"
    }
   ],
   "source": [
    "# Get Title from Name\n",
    "dataset_title = [i.split(\",\")[1].split(\".\")[0].strip() for i in dataset[\"Name\"]]\n",
    "dataset[\"Title\"] = pd.Series(dataset_title)\n",
    "dataset[\"Title\"].head()"
   ]
  },
  {
   "cell_type": "code",
   "execution_count": 155,
   "id": "8e95bd55",
   "metadata": {
    "_cell_guid": "938e324c-f05c-4dad-b7f4-ef3a2a5b815e",
    "_execution_state": "idle",
    "_uuid": "5552e7124cff833e460a55ace212155c953cc512",
    "execution": {
     "iopub.execute_input": "2025-01-31T14:09:34.836306Z",
     "iopub.status.busy": "2025-01-31T14:09:34.835927Z",
     "iopub.status.idle": "2025-01-31T14:09:36.253078Z",
     "shell.execute_reply": "2025-01-31T14:09:36.252002Z"
    },
    "papermill": {
     "duration": 1.447558,
     "end_time": "2025-01-31T14:09:36.255088",
     "exception": false,
     "start_time": "2025-01-31T14:09:34.807530",
     "status": "completed"
    },
    "scrolled": true,
    "tags": []
   },
   "outputs": [
    {
     "data": {
      "image/png": "[encoded data removed]",
      "text/plain": [
       "<Figure size 432x288 with 1 Axes>"
      ]
     },
     "metadata": {},
     "output_type": "display_data"
    }
   ],
   "source": [
    "g = sns.countplot(x=\"Title\",data=dataset, hue=\"Title\",palette=\"coolwarm\")\n",
    "g = plt.setp(g.get_xticklabels(), rotation=45) "
   ]
  },
  {
   "cell_type": "markdown",
   "id": "efd53987",
   "metadata": {
    "_cell_guid": "3d45059d-f8d2-48e6-9bf4-f51287081f13",
    "_uuid": "8ac4a677e2f948f6730f888f090580d5f4a0c68f",
    "papermill": {
     "duration": 0.027578,
     "end_time": "2025-01-31T14:09:36.310877",
     "exception": false,
     "start_time": "2025-01-31T14:09:36.283299",
     "status": "completed"
    },
    "tags": []
   },
   "source": [
    "Existem muitos títulos. Vamos agrupar alguns deles."
   ]
  },
  {
   "cell_type": "code",
   "execution_count": 156,
   "id": "a7c2316d",
   "metadata": {
    "_cell_guid": "8f384079-11c3-4646-91e8-3bb6edfc32f7",
    "_execution_state": "idle",
    "_uuid": "42d91bccd9fb1e3922af2d2ed65fd72505b80d7b",
    "execution": {
     "iopub.execute_input": "2025-01-31T14:09:36.370239Z",
     "iopub.status.busy": "2025-01-31T14:09:36.369837Z",
     "iopub.status.idle": "2025-01-31T14:09:36.380820Z",
     "shell.execute_reply": "2025-01-31T14:09:36.379513Z"
    },
    "papermill": {
     "duration": 0.042522,
     "end_time": "2025-01-31T14:09:36.382940",
     "exception": false,
     "start_time": "2025-01-31T14:09:36.340418",
     "status": "completed"
    },
    "tags": []
   },
   "outputs": [],
   "source": [
    "# Convert to categorical values Title \n",
    "dataset[\"Title\"] = dataset[\"Title\"].replace(['Lady', 'the Countess','Countess','Capt', 'Col','Don', 'Dr', 'Major', 'Rev', 'Sir', 'Jonkheer', 'Dona'], 'Rare')\n",
    "dataset[\"Title\"] = dataset[\"Title\"].map({\"Master\":0, \"Miss\":1, \"Ms\" : 1 , \"Mme\":1, \"Mlle\":1, \"Mrs\":1, \"Mr\":2, \"Rare\":3})\n",
    "dataset[\"Title\"] = dataset[\"Title\"].astype(int)"
   ]
  },
  {
   "cell_type": "code",
   "execution_count": 157,
   "id": "c5d9aa56",
   "metadata": {
    "_cell_guid": "af279ec3-7f14-4f9f-a5b8-ca7ed0308ccb",
    "_execution_state": "idle",
    "_uuid": "c84f4576efb1e788f43efc8473cae8e2e288a7c5",
    "execution": {
     "iopub.execute_input": "2025-01-31T14:09:36.441451Z",
     "iopub.status.busy": "2025-01-31T14:09:36.440951Z",
     "iopub.status.idle": "2025-01-31T14:09:36.802965Z",
     "shell.execute_reply": "2025-01-31T14:09:36.801756Z"
    },
    "papermill": {
     "duration": 0.393285,
     "end_time": "2025-01-31T14:09:36.804941",
     "exception": false,
     "start_time": "2025-01-31T14:09:36.411656",
     "status": "completed"
    },
    "scrolled": true,
    "tags": []
   },
   "outputs": [
    {
     "data": {
      "image/png": "[encoded data removed]",
      "text/plain": [
       "<Figure size 432x288 with 1 Axes>"
      ]
     },
     "metadata": {},
     "output_type": "display_data"
    }
   ],
   "source": [
    "survived_title = dataset.groupby('Title')['Survived'].mean().reset_index()\n",
    "g = sns.barplot(x='Title', y='Survived', data=survived_title, hue='Title', palette='coolwarm')\n",
    "g.set_ylabel('Probabilidade de Sobrevivência')\n",
    "g.set_xlabel('Title')\n",
    "g.set_title('Probabilidade de Sobrevivência por Title')\n",
    "plt.show()"
   ]
  },
  {
   "cell_type": "code",
   "execution_count": 158,
   "id": "b3499c7a",
   "metadata": {
    "_cell_guid": "6cf8a389-5233-48e5-a9f1-be881b5fcee2",
    "_execution_state": "idle",
    "_uuid": "278bacd6b9d3c201fc643b14e60789140d575fc6",
    "execution": {
     "iopub.execute_input": "2025-01-31T14:09:36.866522Z",
     "iopub.status.busy": "2025-01-31T14:09:36.865858Z",
     "iopub.status.idle": "2025-01-31T14:09:36.872262Z",
     "shell.execute_reply": "2025-01-31T14:09:36.870737Z"
    },
    "papermill": {
     "duration": 0.039227,
     "end_time": "2025-01-31T14:09:36.874584",
     "exception": false,
     "start_time": "2025-01-31T14:09:36.835357",
     "status": "completed"
    },
    "tags": []
   },
   "outputs": [],
   "source": [
    "# Drop Name variable\n",
    "dataset.drop(labels = [\"Name\"], axis = 1, inplace = True)"
   ]
  },
  {
   "cell_type": "code",
   "execution_count": 159,
   "id": "76617de6",
   "metadata": {},
   "outputs": [
    {
     "data": {
      "text/html": [
       "<div>\n",
       "<style scoped>\n",
       "    .dataframe tbody tr th:only-of-type {\n",
       "        vertical-align: middle;\n",
       "    }\n",
       "\n",
       "    .dataframe tbody tr th {\n",
       "        vertical-align: top;\n",
       "    }\n",
       "\n",
       "    .dataframe thead th {\n",
       "        text-align: right;\n",
       "    }\n",
       "</style>\n",
       "<table border=\"1\" class=\"dataframe\">\n",
       "  <thead>\n",
       "    <tr style=\"text-align: right;\">\n",
       "      <th></th>\n",
       "      <th>PassengerId</th>\n",
       "      <th>Survived</th>\n",
       "      <th>Pclass</th>\n",
       "      <th>Sex</th>\n",
       "      <th>Age</th>\n",
       "      <th>SibSp</th>\n",
       "      <th>Parch</th>\n",
       "      <th>Ticket</th>\n",
       "      <th>Fare</th>\n",
       "      <th>Cabin</th>\n",
       "      <th>Embarked</th>\n",
       "      <th>Title</th>\n",
       "    </tr>\n",
       "  </thead>\n",
       "  <tbody>\n",
       "    <tr>\n",
       "      <th>0</th>\n",
       "      <td>1</td>\n",
       "      <td>0.0</td>\n",
       "      <td>3</td>\n",
       "      <td>0</td>\n",
       "      <td>22.0</td>\n",
       "      <td>1</td>\n",
       "      <td>0</td>\n",
       "      <td>A/5 21171</td>\n",
       "      <td>1.981001</td>\n",
       "      <td>NaN</td>\n",
       "      <td>S</td>\n",
       "      <td>2</td>\n",
       "    </tr>\n",
       "    <tr>\n",
       "      <th>1</th>\n",
       "      <td>2</td>\n",
       "      <td>1.0</td>\n",
       "      <td>1</td>\n",
       "      <td>1</td>\n",
       "      <td>38.0</td>\n",
       "      <td>1</td>\n",
       "      <td>0</td>\n",
       "      <td>PC 17599</td>\n",
       "      <td>4.266662</td>\n",
       "      <td>C85</td>\n",
       "      <td>C</td>\n",
       "      <td>1</td>\n",
       "    </tr>\n",
       "    <tr>\n",
       "      <th>2</th>\n",
       "      <td>3</td>\n",
       "      <td>1.0</td>\n",
       "      <td>3</td>\n",
       "      <td>1</td>\n",
       "      <td>26.0</td>\n",
       "      <td>0</td>\n",
       "      <td>0</td>\n",
       "      <td>STON/O2. 3101282</td>\n",
       "      <td>2.070022</td>\n",
       "      <td>NaN</td>\n",
       "      <td>S</td>\n",
       "      <td>1</td>\n",
       "    </tr>\n",
       "    <tr>\n",
       "      <th>3</th>\n",
       "      <td>4</td>\n",
       "      <td>1.0</td>\n",
       "      <td>1</td>\n",
       "      <td>1</td>\n",
       "      <td>35.0</td>\n",
       "      <td>1</td>\n",
       "      <td>0</td>\n",
       "      <td>113803</td>\n",
       "      <td>3.972177</td>\n",
       "      <td>C123</td>\n",
       "      <td>S</td>\n",
       "      <td>1</td>\n",
       "    </tr>\n",
       "    <tr>\n",
       "      <th>4</th>\n",
       "      <td>5</td>\n",
       "      <td>0.0</td>\n",
       "      <td>3</td>\n",
       "      <td>0</td>\n",
       "      <td>35.0</td>\n",
       "      <td>0</td>\n",
       "      <td>0</td>\n",
       "      <td>373450</td>\n",
       "      <td>2.085672</td>\n",
       "      <td>NaN</td>\n",
       "      <td>S</td>\n",
       "      <td>2</td>\n",
       "    </tr>\n",
       "  </tbody>\n",
       "</table>\n",
       "</div>"
      ],
      "text/plain": [
       "   PassengerId  Survived  Pclass  Sex   Age  SibSp  Parch            Ticket  \\\n",
       "0            1       0.0       3    0  22.0      1      0         A/5 21171   \n",
       "1            2       1.0       1    1  38.0      1      0          PC 17599   \n",
       "2            3       1.0       3    1  26.0      0      0  STON/O2. 3101282   \n",
       "3            4       1.0       1    1  35.0      1      0            113803   \n",
       "4            5       0.0       3    0  35.0      0      0            373450   \n",
       "\n",
       "       Fare Cabin Embarked  Title  \n",
       "0  1.981001   NaN        S      2  \n",
       "1  4.266662   C85        C      1  \n",
       "2  2.070022   NaN        S      1  \n",
       "3  3.972177  C123        S      1  \n",
       "4  2.085672   NaN        S      2  "
      ]
     },
     "execution_count": 159,
     "metadata": {},
     "output_type": "execute_result"
    }
   ],
   "source": [
    "dataset.head(5)"
   ]
  },
  {
   "cell_type": "markdown",
   "id": "b9868d26",
   "metadata": {},
   "source": [
    " Como a idade importa muito 'woman and children first' iremos mapear a idade em intervalos, afim de enfatizar essa idéia."
   ]
  },
  {
   "cell_type": "code",
   "execution_count": 160,
   "id": "6147d037",
   "metadata": {},
   "outputs": [
    {
     "data": {
      "text/html": [
       "<div>\n",
       "<style scoped>\n",
       "    .dataframe tbody tr th:only-of-type {\n",
       "        vertical-align: middle;\n",
       "    }\n",
       "\n",
       "    .dataframe tbody tr th {\n",
       "        vertical-align: top;\n",
       "    }\n",
       "\n",
       "    .dataframe thead th {\n",
       "        text-align: right;\n",
       "    }\n",
       "</style>\n",
       "<table border=\"1\" class=\"dataframe\">\n",
       "  <thead>\n",
       "    <tr style=\"text-align: right;\">\n",
       "      <th></th>\n",
       "      <th>PassengerId</th>\n",
       "      <th>Survived</th>\n",
       "      <th>Pclass</th>\n",
       "      <th>Sex</th>\n",
       "      <th>Age</th>\n",
       "      <th>SibSp</th>\n",
       "      <th>Parch</th>\n",
       "      <th>Ticket</th>\n",
       "      <th>Fare</th>\n",
       "      <th>Cabin</th>\n",
       "      <th>Embarked</th>\n",
       "      <th>Title</th>\n",
       "    </tr>\n",
       "  </thead>\n",
       "  <tbody>\n",
       "    <tr>\n",
       "      <th>0</th>\n",
       "      <td>1</td>\n",
       "      <td>0.0</td>\n",
       "      <td>3</td>\n",
       "      <td>0</td>\n",
       "      <td>1.0</td>\n",
       "      <td>1</td>\n",
       "      <td>0</td>\n",
       "      <td>A/5 21171</td>\n",
       "      <td>1.981001</td>\n",
       "      <td>NaN</td>\n",
       "      <td>S</td>\n",
       "      <td>2</td>\n",
       "    </tr>\n",
       "    <tr>\n",
       "      <th>1</th>\n",
       "      <td>2</td>\n",
       "      <td>1.0</td>\n",
       "      <td>1</td>\n",
       "      <td>1</td>\n",
       "      <td>2.0</td>\n",
       "      <td>1</td>\n",
       "      <td>0</td>\n",
       "      <td>PC 17599</td>\n",
       "      <td>4.266662</td>\n",
       "      <td>C85</td>\n",
       "      <td>C</td>\n",
       "      <td>1</td>\n",
       "    </tr>\n",
       "    <tr>\n",
       "      <th>2</th>\n",
       "      <td>3</td>\n",
       "      <td>1.0</td>\n",
       "      <td>3</td>\n",
       "      <td>1</td>\n",
       "      <td>1.0</td>\n",
       "      <td>0</td>\n",
       "      <td>0</td>\n",
       "      <td>STON/O2. 3101282</td>\n",
       "      <td>2.070022</td>\n",
       "      <td>NaN</td>\n",
       "      <td>S</td>\n",
       "      <td>1</td>\n",
       "    </tr>\n",
       "    <tr>\n",
       "      <th>3</th>\n",
       "      <td>4</td>\n",
       "      <td>1.0</td>\n",
       "      <td>1</td>\n",
       "      <td>1</td>\n",
       "      <td>2.0</td>\n",
       "      <td>1</td>\n",
       "      <td>0</td>\n",
       "      <td>113803</td>\n",
       "      <td>3.972177</td>\n",
       "      <td>C123</td>\n",
       "      <td>S</td>\n",
       "      <td>1</td>\n",
       "    </tr>\n",
       "    <tr>\n",
       "      <th>4</th>\n",
       "      <td>5</td>\n",
       "      <td>0.0</td>\n",
       "      <td>3</td>\n",
       "      <td>0</td>\n",
       "      <td>2.0</td>\n",
       "      <td>0</td>\n",
       "      <td>0</td>\n",
       "      <td>373450</td>\n",
       "      <td>2.085672</td>\n",
       "      <td>NaN</td>\n",
       "      <td>S</td>\n",
       "      <td>2</td>\n",
       "    </tr>\n",
       "  </tbody>\n",
       "</table>\n",
       "</div>"
      ],
      "text/plain": [
       "   PassengerId  Survived  Pclass  Sex  Age  SibSp  Parch            Ticket  \\\n",
       "0            1       0.0       3    0  1.0      1      0         A/5 21171   \n",
       "1            2       1.0       1    1  2.0      1      0          PC 17599   \n",
       "2            3       1.0       3    1  1.0      0      0  STON/O2. 3101282   \n",
       "3            4       1.0       1    1  2.0      1      0            113803   \n",
       "4            5       0.0       3    0  2.0      0      0            373450   \n",
       "\n",
       "       Fare Cabin Embarked  Title  \n",
       "0  1.981001   NaN        S      2  \n",
       "1  4.266662   C85        C      1  \n",
       "2  2.070022   NaN        S      1  \n",
       "3  3.972177  C123        S      1  \n",
       "4  2.085672   NaN        S      2  "
      ]
     },
     "execution_count": 160,
     "metadata": {},
     "output_type": "execute_result"
    }
   ],
   "source": [
    "dataset.loc[dataset['Age'] <= 16, 'Age'] = 0\n",
    "dataset.loc[(dataset['Age'] > 16) & (dataset['Age'] <= 32), 'Age'] = 1\n",
    "dataset.loc[(dataset['Age'] > 32) & (dataset['Age'] <= 48), 'Age'] = 2\n",
    "dataset.loc[(dataset['Age'] > 48) & (dataset['Age'] <= 64), 'Age'] = 3\n",
    "dataset.loc[dataset['Age'] > 64, 'Age'] = 4  \n",
    "dataset.head()\n"
   ]
  },
  {
   "cell_type": "markdown",
   "id": "fc31f08d",
   "metadata": {},
   "source": [
    "Iremos criar um novo atributo, family size, combinando parch e SibSp"
   ]
  },
  {
   "cell_type": "code",
   "execution_count": 161,
   "id": "a826e2f1",
   "metadata": {},
   "outputs": [],
   "source": [
    "dataset['Family Size'] = dataset['Parch'] + dataset['SibSp']"
   ]
  },
  {
   "cell_type": "markdown",
   "id": "e85cefaf",
   "metadata": {},
   "source": [
    "Além disso, criaremos um atributo para verificar se ele está sozinho ou não"
   ]
  },
  {
   "cell_type": "code",
   "execution_count": 162,
   "id": "9adb730b",
   "metadata": {},
   "outputs": [],
   "source": [
    "alone = []\n",
    "\n",
    "for qtd in dataset['Family Size']:\n",
    "    if(qtd == 0):\n",
    "        alone.append(1)\n",
    "    else:\n",
    "        alone.append(0)\n",
    "        \n",
    "dataset['Is Alone'] = alone"
   ]
  },
  {
   "cell_type": "markdown",
   "id": "a4b4b414",
   "metadata": {},
   "source": [
    "Tentativa usando o ticket"
   ]
  },
  {
   "cell_type": "code",
   "execution_count": 163,
   "id": "e295315b",
   "metadata": {},
   "outputs": [],
   "source": [
    "dataset = dataset.drop(columns=['Cabin', 'Ticket', 'Parch', 'SibSp'])\n",
    "dataset = pd.get_dummies(dataset, columns = [\"Embarked\"], prefix=\"Em\")"
   ]
  },
  {
   "cell_type": "code",
   "execution_count": 164,
   "id": "c652798f",
   "metadata": {},
   "outputs": [
    {
     "data": {
      "text/html": [
       "<div>\n",
       "<style scoped>\n",
       "    .dataframe tbody tr th:only-of-type {\n",
       "        vertical-align: middle;\n",
       "    }\n",
       "\n",
       "    .dataframe tbody tr th {\n",
       "        vertical-align: top;\n",
       "    }\n",
       "\n",
       "    .dataframe thead th {\n",
       "        text-align: right;\n",
       "    }\n",
       "</style>\n",
       "<table border=\"1\" class=\"dataframe\">\n",
       "  <thead>\n",
       "    <tr style=\"text-align: right;\">\n",
       "      <th></th>\n",
       "      <th>PassengerId</th>\n",
       "      <th>Survived</th>\n",
       "      <th>Pclass</th>\n",
       "      <th>Sex</th>\n",
       "      <th>Age</th>\n",
       "      <th>Fare</th>\n",
       "      <th>Title</th>\n",
       "      <th>Family Size</th>\n",
       "      <th>Is Alone</th>\n",
       "      <th>Em_C</th>\n",
       "      <th>Em_Q</th>\n",
       "      <th>Em_S</th>\n",
       "    </tr>\n",
       "  </thead>\n",
       "  <tbody>\n",
       "    <tr>\n",
       "      <th>0</th>\n",
       "      <td>1</td>\n",
       "      <td>0.0</td>\n",
       "      <td>3</td>\n",
       "      <td>0</td>\n",
       "      <td>1.0</td>\n",
       "      <td>1.981001</td>\n",
       "      <td>2</td>\n",
       "      <td>1</td>\n",
       "      <td>0</td>\n",
       "      <td>0</td>\n",
       "      <td>0</td>\n",
       "      <td>1</td>\n",
       "    </tr>\n",
       "    <tr>\n",
       "      <th>1</th>\n",
       "      <td>2</td>\n",
       "      <td>1.0</td>\n",
       "      <td>1</td>\n",
       "      <td>1</td>\n",
       "      <td>2.0</td>\n",
       "      <td>4.266662</td>\n",
       "      <td>1</td>\n",
       "      <td>1</td>\n",
       "      <td>0</td>\n",
       "      <td>1</td>\n",
       "      <td>0</td>\n",
       "      <td>0</td>\n",
       "    </tr>\n",
       "    <tr>\n",
       "      <th>2</th>\n",
       "      <td>3</td>\n",
       "      <td>1.0</td>\n",
       "      <td>3</td>\n",
       "      <td>1</td>\n",
       "      <td>1.0</td>\n",
       "      <td>2.070022</td>\n",
       "      <td>1</td>\n",
       "      <td>0</td>\n",
       "      <td>1</td>\n",
       "      <td>0</td>\n",
       "      <td>0</td>\n",
       "      <td>1</td>\n",
       "    </tr>\n",
       "    <tr>\n",
       "      <th>3</th>\n",
       "      <td>4</td>\n",
       "      <td>1.0</td>\n",
       "      <td>1</td>\n",
       "      <td>1</td>\n",
       "      <td>2.0</td>\n",
       "      <td>3.972177</td>\n",
       "      <td>1</td>\n",
       "      <td>1</td>\n",
       "      <td>0</td>\n",
       "      <td>0</td>\n",
       "      <td>0</td>\n",
       "      <td>1</td>\n",
       "    </tr>\n",
       "    <tr>\n",
       "      <th>4</th>\n",
       "      <td>5</td>\n",
       "      <td>0.0</td>\n",
       "      <td>3</td>\n",
       "      <td>0</td>\n",
       "      <td>2.0</td>\n",
       "      <td>2.085672</td>\n",
       "      <td>2</td>\n",
       "      <td>0</td>\n",
       "      <td>1</td>\n",
       "      <td>0</td>\n",
       "      <td>0</td>\n",
       "      <td>1</td>\n",
       "    </tr>\n",
       "    <tr>\n",
       "      <th>...</th>\n",
       "      <td>...</td>\n",
       "      <td>...</td>\n",
       "      <td>...</td>\n",
       "      <td>...</td>\n",
       "      <td>...</td>\n",
       "      <td>...</td>\n",
       "      <td>...</td>\n",
       "      <td>...</td>\n",
       "      <td>...</td>\n",
       "      <td>...</td>\n",
       "      <td>...</td>\n",
       "      <td>...</td>\n",
       "    </tr>\n",
       "    <tr>\n",
       "      <th>1294</th>\n",
       "      <td>1305</td>\n",
       "      <td>NaN</td>\n",
       "      <td>3</td>\n",
       "      <td>0</td>\n",
       "      <td>1.0</td>\n",
       "      <td>2.085672</td>\n",
       "      <td>2</td>\n",
       "      <td>0</td>\n",
       "      <td>1</td>\n",
       "      <td>0</td>\n",
       "      <td>0</td>\n",
       "      <td>1</td>\n",
       "    </tr>\n",
       "    <tr>\n",
       "      <th>1295</th>\n",
       "      <td>1306</td>\n",
       "      <td>NaN</td>\n",
       "      <td>1</td>\n",
       "      <td>1</td>\n",
       "      <td>2.0</td>\n",
       "      <td>4.690430</td>\n",
       "      <td>3</td>\n",
       "      <td>0</td>\n",
       "      <td>1</td>\n",
       "      <td>1</td>\n",
       "      <td>0</td>\n",
       "      <td>0</td>\n",
       "    </tr>\n",
       "    <tr>\n",
       "      <th>1296</th>\n",
       "      <td>1307</td>\n",
       "      <td>NaN</td>\n",
       "      <td>3</td>\n",
       "      <td>0</td>\n",
       "      <td>2.0</td>\n",
       "      <td>1.981001</td>\n",
       "      <td>2</td>\n",
       "      <td>0</td>\n",
       "      <td>1</td>\n",
       "      <td>0</td>\n",
       "      <td>0</td>\n",
       "      <td>1</td>\n",
       "    </tr>\n",
       "    <tr>\n",
       "      <th>1297</th>\n",
       "      <td>1308</td>\n",
       "      <td>NaN</td>\n",
       "      <td>3</td>\n",
       "      <td>0</td>\n",
       "      <td>1.0</td>\n",
       "      <td>2.085672</td>\n",
       "      <td>2</td>\n",
       "      <td>0</td>\n",
       "      <td>1</td>\n",
       "      <td>0</td>\n",
       "      <td>0</td>\n",
       "      <td>1</td>\n",
       "    </tr>\n",
       "    <tr>\n",
       "      <th>1298</th>\n",
       "      <td>1309</td>\n",
       "      <td>NaN</td>\n",
       "      <td>3</td>\n",
       "      <td>0</td>\n",
       "      <td>0.0</td>\n",
       "      <td>3.107198</td>\n",
       "      <td>0</td>\n",
       "      <td>2</td>\n",
       "      <td>0</td>\n",
       "      <td>1</td>\n",
       "      <td>0</td>\n",
       "      <td>0</td>\n",
       "    </tr>\n",
       "  </tbody>\n",
       "</table>\n",
       "<p>1299 rows × 12 columns</p>\n",
       "</div>"
      ],
      "text/plain": [
       "      PassengerId  Survived  Pclass  Sex  Age      Fare  Title  Family Size  \\\n",
       "0               1       0.0       3    0  1.0  1.981001      2            1   \n",
       "1               2       1.0       1    1  2.0  4.266662      1            1   \n",
       "2               3       1.0       3    1  1.0  2.070022      1            0   \n",
       "3               4       1.0       1    1  2.0  3.972177      1            1   \n",
       "4               5       0.0       3    0  2.0  2.085672      2            0   \n",
       "...           ...       ...     ...  ...  ...       ...    ...          ...   \n",
       "1294         1305       NaN       3    0  1.0  2.085672      2            0   \n",
       "1295         1306       NaN       1    1  2.0  4.690430      3            0   \n",
       "1296         1307       NaN       3    0  2.0  1.981001      2            0   \n",
       "1297         1308       NaN       3    0  1.0  2.085672      2            0   \n",
       "1298         1309       NaN       3    0  0.0  3.107198      0            2   \n",
       "\n",
       "      Is Alone  Em_C  Em_Q  Em_S  \n",
       "0            0     0     0     1  \n",
       "1            0     1     0     0  \n",
       "2            1     0     0     1  \n",
       "3            0     0     0     1  \n",
       "4            1     0     0     1  \n",
       "...        ...   ...   ...   ...  \n",
       "1294         1     0     0     1  \n",
       "1295         1     1     0     0  \n",
       "1296         1     0     0     1  \n",
       "1297         1     0     0     1  \n",
       "1298         0     1     0     0  \n",
       "\n",
       "[1299 rows x 12 columns]"
      ]
     },
     "execution_count": 164,
     "metadata": {},
     "output_type": "execute_result"
    }
   ],
   "source": [
    "dataset"
   ]
  },
  {
   "cell_type": "code",
   "execution_count": 165,
   "id": "930fbcc1",
   "metadata": {
    "_cell_guid": "af772507-4dc0-4eeb-ae93-ac47fbbf945c",
    "_execution_state": "idle",
    "_uuid": "a07bbb992a90a29f248fb2965b02315fba6597e4",
    "execution": {
     "iopub.execute_input": "2025-01-31T14:09:37.120833Z",
     "iopub.status.busy": "2025-01-31T14:09:37.120431Z",
     "iopub.status.idle": "2025-01-31T14:09:37.127445Z",
     "shell.execute_reply": "2025-01-31T14:09:37.126040Z"
    },
    "papermill": {
     "duration": 0.038989,
     "end_time": "2025-01-31T14:09:37.129538",
     "exception": false,
     "start_time": "2025-01-31T14:09:37.090549",
     "status": "completed"
    },
    "tags": []
   },
   "outputs": [],
   "source": [
    "## Separate train dataset and test dataset\n",
    "\n",
    "train = dataset[:train_len].copy()\n",
    "test = dataset[train_len:].copy()\n",
    "test.drop(labels=[\"Survived\"],axis = 1,inplace=True)"
   ]
  },
  {
   "cell_type": "code",
   "execution_count": 166,
   "id": "91b0016c",
   "metadata": {
    "_cell_guid": "af46f2f3-e20d-4999-9318-f98c2063dfeb",
    "_execution_state": "idle",
    "_uuid": "6f42511d798fbd140ff1f2b17d4354342df2b17b",
    "execution": {
     "iopub.execute_input": "2025-01-31T14:09:37.189929Z",
     "iopub.status.busy": "2025-01-31T14:09:37.189567Z",
     "iopub.status.idle": "2025-01-31T14:09:37.196119Z",
     "shell.execute_reply": "2025-01-31T14:09:37.194917Z"
    },
    "papermill": {
     "duration": 0.038764,
     "end_time": "2025-01-31T14:09:37.198179",
     "exception": false,
     "start_time": "2025-01-31T14:09:37.159415",
     "status": "completed"
    },
    "scrolled": true,
    "tags": []
   },
   "outputs": [],
   "source": [
    "## Separate train features and label \n",
    "\n",
    "train[\"Survived\"] = train[\"Survived\"].astype(int)\n",
    "\n",
    "Y_train = train[\"Survived\"]\n",
    "\n",
    "X_train = train.drop(labels = [\"Survived\"],axis = 1)"
   ]
  },
  {
   "cell_type": "markdown",
   "id": "50cb0b95",
   "metadata": {
    "_cell_guid": "31276c4e-a992-4f42-b9d2-fe48ac3f0733",
    "_uuid": "c541e1052c6fb529de2fd42ae5166d735bcdecd5",
    "papermill": {
     "duration": 0.028292,
     "end_time": "2025-01-31T14:09:37.255196",
     "exception": false,
     "start_time": "2025-01-31T14:09:37.226904",
     "status": "completed"
    },
    "tags": []
   },
   "source": [
    "Vamos avaliar 6 classificadores usando validação cruzada:\n",
    "\n",
    "* SVC\n",
    "* Decision Tree\n",
    "* Random Forest\n",
    "* KNN\n",
    "* Logistic regression\n",
    "* XGBoost"
   ]
  },
  {
   "cell_type": "code",
   "execution_count": 167,
   "id": "587f05cc",
   "metadata": {
    "_cell_guid": "7e809ec9-cb78-4aad-85d8-1543515e31c7",
    "_execution_state": "idle",
    "_uuid": "2c660f943c3f97f08f1c6179cb4e82cab5436eb3",
    "execution": {
     "iopub.execute_input": "2025-01-31T14:09:37.315407Z",
     "iopub.status.busy": "2025-01-31T14:09:37.315003Z",
     "iopub.status.idle": "2025-01-31T14:09:37.319590Z",
     "shell.execute_reply": "2025-01-31T14:09:37.318507Z"
    },
    "papermill": {
     "duration": 0.036367,
     "end_time": "2025-01-31T14:09:37.321608",
     "exception": false,
     "start_time": "2025-01-31T14:09:37.285241",
     "status": "completed"
    },
    "tags": []
   },
   "outputs": [],
   "source": [
    "kfold = StratifiedKFold(n_splits=10)"
   ]
  },
  {
   "cell_type": "code",
   "execution_count": 168,
   "id": "fa1029b0",
   "metadata": {
    "_cell_guid": "aa6e6f87-95a0-447b-928d-b7f3508af494",
    "_execution_state": "idle",
    "_uuid": "3b1cf6c8671e432c222d8fd8058049464d0fed86",
    "execution": {
     "iopub.execute_input": "2025-01-31T14:09:37.382843Z",
     "iopub.status.busy": "2025-01-31T14:09:37.382470Z",
     "iopub.status.idle": "2025-01-31T14:09:41.701235Z",
     "shell.execute_reply": "2025-01-31T14:09:41.699584Z"
    },
    "papermill": {
     "duration": 4.351331,
     "end_time": "2025-01-31T14:09:41.703299",
     "exception": false,
     "start_time": "2025-01-31T14:09:37.351968",
     "status": "completed"
    },
    "scrolled": true,
    "tags": []
   },
   "outputs": [
    {
     "name": "stderr",
     "output_type": "stream",
     "text": [
      "/home/guilherme/anaconda3/lib/python3.9/site-packages/sklearn/linear_model/_logistic.py:814: ConvergenceWarning: lbfgs failed to converge (status=1):\n",
      "STOP: TOTAL NO. of ITERATIONS REACHED LIMIT.\n",
      "\n",
      "Increase the number of iterations (max_iter) or scale the data as shown in:\n",
      "    https://scikit-learn.org/stable/modules/preprocessing.html\n",
      "Please also refer to the documentation for alternative solver options:\n",
      "    https://scikit-learn.org/stable/modules/linear_model.html#logistic-regression\n",
      "  n_iter_i = _check_optimize_result(\n",
      "/home/guilherme/anaconda3/lib/python3.9/site-packages/sklearn/linear_model/_logistic.py:814: ConvergenceWarning: lbfgs failed to converge (status=1):\n",
      "STOP: TOTAL NO. of ITERATIONS REACHED LIMIT.\n",
      "\n",
      "Increase the number of iterations (max_iter) or scale the data as shown in:\n",
      "    https://scikit-learn.org/stable/modules/preprocessing.html\n",
      "Please also refer to the documentation for alternative solver options:\n",
      "    https://scikit-learn.org/stable/modules/linear_model.html#logistic-regression\n",
      "  n_iter_i = _check_optimize_result(\n",
      "/home/guilherme/anaconda3/lib/python3.9/site-packages/sklearn/linear_model/_logistic.py:814: ConvergenceWarning: lbfgs failed to converge (status=1):\n",
      "STOP: TOTAL NO. of ITERATIONS REACHED LIMIT.\n",
      "\n",
      "Increase the number of iterations (max_iter) or scale the data as shown in:\n",
      "    https://scikit-learn.org/stable/modules/preprocessing.html\n",
      "Please also refer to the documentation for alternative solver options:\n",
      "    https://scikit-learn.org/stable/modules/linear_model.html#logistic-regression\n",
      "  n_iter_i = _check_optimize_result(\n",
      "/home/guilherme/anaconda3/lib/python3.9/site-packages/sklearn/linear_model/_logistic.py:814: ConvergenceWarning: lbfgs failed to converge (status=1):\n",
      "STOP: TOTAL NO. of ITERATIONS REACHED LIMIT.\n",
      "\n",
      "Increase the number of iterations (max_iter) or scale the data as shown in:\n",
      "    https://scikit-learn.org/stable/modules/preprocessing.html\n",
      "Please also refer to the documentation for alternative solver options:\n",
      "    https://scikit-learn.org/stable/modules/linear_model.html#logistic-regression\n",
      "  n_iter_i = _check_optimize_result(\n",
      "/home/guilherme/anaconda3/lib/python3.9/site-packages/sklearn/linear_model/_logistic.py:814: ConvergenceWarning: lbfgs failed to converge (status=1):\n",
      "STOP: TOTAL NO. of ITERATIONS REACHED LIMIT.\n",
      "\n",
      "Increase the number of iterations (max_iter) or scale the data as shown in:\n",
      "    https://scikit-learn.org/stable/modules/preprocessing.html\n",
      "Please also refer to the documentation for alternative solver options:\n",
      "    https://scikit-learn.org/stable/modules/linear_model.html#logistic-regression\n",
      "  n_iter_i = _check_optimize_result(\n",
      "/home/guilherme/anaconda3/lib/python3.9/site-packages/sklearn/linear_model/_logistic.py:814: ConvergenceWarning: lbfgs failed to converge (status=1):\n",
      "STOP: TOTAL NO. of ITERATIONS REACHED LIMIT.\n",
      "\n",
      "Increase the number of iterations (max_iter) or scale the data as shown in:\n",
      "    https://scikit-learn.org/stable/modules/preprocessing.html\n",
      "Please also refer to the documentation for alternative solver options:\n",
      "    https://scikit-learn.org/stable/modules/linear_model.html#logistic-regression\n",
      "  n_iter_i = _check_optimize_result(\n",
      "/home/guilherme/anaconda3/lib/python3.9/site-packages/sklearn/linear_model/_logistic.py:814: ConvergenceWarning: lbfgs failed to converge (status=1):\n",
      "STOP: TOTAL NO. of ITERATIONS REACHED LIMIT.\n",
      "\n",
      "Increase the number of iterations (max_iter) or scale the data as shown in:\n",
      "    https://scikit-learn.org/stable/modules/preprocessing.html\n",
      "Please also refer to the documentation for alternative solver options:\n",
      "    https://scikit-learn.org/stable/modules/linear_model.html#logistic-regression\n",
      "  n_iter_i = _check_optimize_result(\n",
      "/home/guilherme/anaconda3/lib/python3.9/site-packages/sklearn/linear_model/_logistic.py:814: ConvergenceWarning: lbfgs failed to converge (status=1):\n",
      "STOP: TOTAL NO. of ITERATIONS REACHED LIMIT.\n",
      "\n",
      "Increase the number of iterations (max_iter) or scale the data as shown in:\n",
      "    https://scikit-learn.org/stable/modules/preprocessing.html\n",
      "Please also refer to the documentation for alternative solver options:\n",
      "    https://scikit-learn.org/stable/modules/linear_model.html#logistic-regression\n",
      "  n_iter_i = _check_optimize_result(\n",
      "/home/guilherme/anaconda3/lib/python3.9/site-packages/sklearn/linear_model/_logistic.py:814: ConvergenceWarning: lbfgs failed to converge (status=1):\n",
      "STOP: TOTAL NO. of ITERATIONS REACHED LIMIT.\n",
      "\n",
      "Increase the number of iterations (max_iter) or scale the data as shown in:\n",
      "    https://scikit-learn.org/stable/modules/preprocessing.html\n",
      "Please also refer to the documentation for alternative solver options:\n",
      "    https://scikit-learn.org/stable/modules/linear_model.html#logistic-regression\n",
      "  n_iter_i = _check_optimize_result(\n",
      "/home/guilherme/anaconda3/lib/python3.9/site-packages/sklearn/linear_model/_logistic.py:814: ConvergenceWarning: lbfgs failed to converge (status=1):\n",
      "STOP: TOTAL NO. of ITERATIONS REACHED LIMIT.\n",
      "\n",
      "Increase the number of iterations (max_iter) or scale the data as shown in:\n",
      "    https://scikit-learn.org/stable/modules/preprocessing.html\n",
      "Please also refer to the documentation for alternative solver options:\n",
      "    https://scikit-learn.org/stable/modules/linear_model.html#logistic-regression\n",
      "  n_iter_i = _check_optimize_result(\n"
     ]
    }
   ],
   "source": [
    "classifiers = []\n",
    "classifiers.append(SVC())\n",
    "classifiers.append(DecisionTreeClassifier())\n",
    "classifiers.append(RandomForestClassifier())\n",
    "classifiers.append(KNeighborsClassifier())\n",
    "classifiers.append(LogisticRegression())\n",
    "classifiers.append(xgb.XGBClassifier())\n",
    "\n",
    "cv_results = []\n",
    "for classifier in classifiers :\n",
    "    cv_results.append(cross_val_score(classifier, X_train, y = Y_train, scoring = \"accuracy\", cv = kfold, n_jobs=4))\n",
    "\n",
    "cv_means = []\n",
    "cv_std = []\n",
    "for cv_result in cv_results:\n",
    "    cv_means.append(cv_result.mean())\n",
    "    cv_std.append(cv_result.std())\n",
    "\n",
    "cv_res = pd.DataFrame({\n",
    "        \"CrossValMeans\":cv_means,\n",
    "        \"CrossValerrors\": cv_std,\n",
    "        \"Modelo\":[\"SVC\",\"DecisionTree\", \"RandomForest\",\"KNeighboors\",\"LogisticRegression\",\"XGBoost\"]\n",
    "    })\n",
    "\n",
    "cv_res = cv_res.sort_values('CrossValMeans', ascending=False)"
   ]
  },
  {
   "cell_type": "code",
   "execution_count": 169,
   "id": "2ff83beb",
   "metadata": {
    "execution": {
     "iopub.execute_input": "2025-01-31T14:09:41.763235Z",
     "iopub.status.busy": "2025-01-31T14:09:41.762839Z",
     "iopub.status.idle": "2025-01-31T14:09:41.775161Z",
     "shell.execute_reply": "2025-01-31T14:09:41.773943Z"
    },
    "papermill": {
     "duration": 0.044499,
     "end_time": "2025-01-31T14:09:41.777076",
     "exception": false,
     "start_time": "2025-01-31T14:09:41.732577",
     "status": "completed"
    },
    "tags": []
   },
   "outputs": [
    {
     "data": {
      "text/html": [
       "<div>\n",
       "<style scoped>\n",
       "    .dataframe tbody tr th:only-of-type {\n",
       "        vertical-align: middle;\n",
       "    }\n",
       "\n",
       "    .dataframe tbody tr th {\n",
       "        vertical-align: top;\n",
       "    }\n",
       "\n",
       "    .dataframe thead th {\n",
       "        text-align: right;\n",
       "    }\n",
       "</style>\n",
       "<table border=\"1\" class=\"dataframe\">\n",
       "  <thead>\n",
       "    <tr style=\"text-align: right;\">\n",
       "      <th></th>\n",
       "      <th>CrossValMeans</th>\n",
       "      <th>CrossValerrors</th>\n",
       "      <th>Modelo</th>\n",
       "    </tr>\n",
       "  </thead>\n",
       "  <tbody>\n",
       "    <tr>\n",
       "      <th>4</th>\n",
       "      <td>0.818399</td>\n",
       "      <td>0.028215</td>\n",
       "      <td>LogisticRegression</td>\n",
       "    </tr>\n",
       "    <tr>\n",
       "      <th>2</th>\n",
       "      <td>0.808235</td>\n",
       "      <td>0.042280</td>\n",
       "      <td>RandomForest</td>\n",
       "    </tr>\n",
       "    <tr>\n",
       "      <th>5</th>\n",
       "      <td>0.752566</td>\n",
       "      <td>0.110118</td>\n",
       "      <td>XGBoost</td>\n",
       "    </tr>\n",
       "    <tr>\n",
       "      <th>1</th>\n",
       "      <td>0.709691</td>\n",
       "      <td>0.112841</td>\n",
       "      <td>DecisionTree</td>\n",
       "    </tr>\n",
       "    <tr>\n",
       "      <th>0</th>\n",
       "      <td>0.614070</td>\n",
       "      <td>0.001302</td>\n",
       "      <td>SVC</td>\n",
       "    </tr>\n",
       "    <tr>\n",
       "      <th>3</th>\n",
       "      <td>0.462028</td>\n",
       "      <td>0.082832</td>\n",
       "      <td>KNeighboors</td>\n",
       "    </tr>\n",
       "  </tbody>\n",
       "</table>\n",
       "</div>"
      ],
      "text/plain": [
       "   CrossValMeans  CrossValerrors              Modelo\n",
       "4       0.818399        0.028215  LogisticRegression\n",
       "2       0.808235        0.042280        RandomForest\n",
       "5       0.752566        0.110118             XGBoost\n",
       "1       0.709691        0.112841        DecisionTree\n",
       "0       0.614070        0.001302                 SVC\n",
       "3       0.462028        0.082832         KNeighboors"
      ]
     },
     "execution_count": 169,
     "metadata": {},
     "output_type": "execute_result"
    }
   ],
   "source": [
    "cv_res"
   ]
  },
  {
   "cell_type": "code",
   "execution_count": 170,
   "id": "2ce06d4d",
   "metadata": {
    "execution": {
     "iopub.execute_input": "2025-01-31T14:09:41.836891Z",
     "iopub.status.busy": "2025-01-31T14:09:41.836491Z",
     "iopub.status.idle": "2025-01-31T14:09:42.414602Z",
     "shell.execute_reply": "2025-01-31T14:09:42.413217Z"
    },
    "papermill": {
     "duration": 0.610187,
     "end_time": "2025-01-31T14:09:42.416766",
     "exception": false,
     "start_time": "2025-01-31T14:09:41.806579",
     "status": "completed"
    },
    "tags": []
   },
   "outputs": [
    {
     "data": {
      "image/png": "[encoded data removed]",
      "text/plain": [
       "<Figure size 720x432 with 1 Axes>"
      ]
     },
     "metadata": {},
     "output_type": "display_data"
    }
   ],
   "source": [
    "# Criando o gráfico de barras horizontal\n",
    "plt.figure(figsize=(10, 6))\n",
    "sns.barplot(x='CrossValMeans', y='Modelo', data=cv_res, palette='coolwarm', hue='Modelo')\n",
    "\n",
    "# Adicionando título e rótulos\n",
    "plt.title('Acurácia dos Modelos')\n",
    "plt.xlabel('Acurácia')\n",
    "plt.ylabel('Modelo')\n",
    "\n",
    "# Exibindo o gráfico\n",
    "plt.show()"
   ]
  },
  {
   "cell_type": "markdown",
   "id": "80d9e4df",
   "metadata": {
    "_cell_guid": "0b896759-62ed-4cfd-8716-3684918e8c14",
    "_uuid": "974fa2316b3ea11f29031561125110d0c4754b38",
    "papermill": {
     "duration": 0.030223,
     "end_time": "2025-01-31T14:09:42.479077",
     "exception": false,
     "start_time": "2025-01-31T14:09:42.448854",
     "status": "completed"
    },
    "tags": []
   },
   "source": [
    "#### Otimização de Hiperparâmetros"
   ]
  },
  {
   "cell_type": "code",
   "execution_count": 171,
   "id": "655484e5",
   "metadata": {
    "_cell_guid": "ae0047b8-3c39-4867-b011-b9e9fca3ffbf",
    "_execution_state": "idle",
    "_uuid": "11c2ab352e21bb3f5737607786459a18217dbf27",
    "execution": {
     "iopub.execute_input": "2025-01-31T14:09:42.542720Z",
     "iopub.status.busy": "2025-01-31T14:09:42.542284Z",
     "iopub.status.idle": "2025-01-31T14:10:33.784417Z",
     "shell.execute_reply": "2025-01-31T14:10:33.782691Z"
    },
    "papermill": {
     "duration": 51.276281,
     "end_time": "2025-01-31T14:10:33.786876",
     "exception": false,
     "start_time": "2025-01-31T14:09:42.510595",
     "status": "completed"
    },
    "tags": []
   },
   "outputs": [
    {
     "name": "stderr",
     "output_type": "stream",
     "text": [
      "[I 2025-02-06 11:27:19,041] A new study created in memory with name: no-name-3895f0a9-cca9-455b-954d-b7a7ed54884d\n",
      "[I 2025-02-06 11:27:19,746] Trial 0 finished with value: 0.8003787878787879 and parameters: {'max_depth': 17, 'learning_rate': 0.123170984471333, 'n_estimators': 267, 'subsample': 0.9041383942768122, 'colsample_bytree': 0.6523915788014635}. Best is trial 0 with value: 0.8003787878787879.\n",
      "[I 2025-02-06 11:27:20,070] Trial 1 finished with value: 0.8026515151515152 and parameters: {'max_depth': 43, 'learning_rate': 0.08204210233154925, 'n_estimators': 106, 'subsample': 0.7506467717232225, 'colsample_bytree': 0.6930697993531153}. Best is trial 1 with value: 0.8026515151515152.\n",
      "[I 2025-02-06 11:27:20,788] Trial 2 finished with value: 0.8015151515151515 and parameters: {'max_depth': 9, 'learning_rate': 0.04447713253787448, 'n_estimators': 337, 'subsample': 0.6080625089489271, 'colsample_bytree': 0.652370406604752}. Best is trial 1 with value: 0.8026515151515152.\n",
      "[I 2025-02-06 11:27:23,312] Trial 3 finished with value: 0.799248844375963 and parameters: {'max_depth': 22, 'learning_rate': 0.015037889658656298, 'n_estimators': 939, 'subsample': 0.8588644347038632, 'colsample_bytree': 0.8902162194012683}. Best is trial 1 with value: 0.8026515151515152.\n",
      "[I 2025-02-06 11:27:25,265] Trial 4 finished with value: 0.7924820236260914 and parameters: {'max_depth': 38, 'learning_rate': 0.009714258246044605, 'n_estimators': 586, 'subsample': 0.9142590991833841, 'colsample_bytree': 0.9995329611702385}. Best is trial 1 with value: 0.8026515151515152.\n",
      "[I 2025-02-06 11:27:26,259] Trial 5 finished with value: 0.8003787878787879 and parameters: {'max_depth': 46, 'learning_rate': 0.016126458085714168, 'n_estimators': 378, 'subsample': 0.701883664212207, 'colsample_bytree': 0.7385351859122203}. Best is trial 1 with value: 0.8026515151515152.\n",
      "[I 2025-02-06 11:27:26,789] Trial 6 finished with value: 0.8071712891628146 and parameters: {'max_depth': 14, 'learning_rate': 0.12292559494975097, 'n_estimators': 217, 'subsample': 0.6350489545370605, 'colsample_bytree': 0.9286018427446501}. Best is trial 6 with value: 0.8071712891628146.\n",
      "[I 2025-02-06 11:27:27,698] Trial 7 finished with value: 0.7913071391884952 and parameters: {'max_depth': 42, 'learning_rate': 0.051648418537052716, 'n_estimators': 311, 'subsample': 0.9882428151538512, 'colsample_bytree': 0.795775400233208}. Best is trial 6 with value: 0.8071712891628146.\n",
      "[I 2025-02-06 11:27:28,341] Trial 8 finished with value: 0.8003531073446328 and parameters: {'max_depth': 30, 'learning_rate': 0.11992711467516605, 'n_estimators': 286, 'subsample': 0.6975636822191043, 'colsample_bytree': 0.8218247764348845}. Best is trial 6 with value: 0.8071712891628146.\n",
      "[I 2025-02-06 11:27:29,876] Trial 9 finished with value: 0.8048857216230096 and parameters: {'max_depth': 46, 'learning_rate': 0.09950826145517, 'n_estimators': 840, 'subsample': 0.8677181165726302, 'colsample_bytree': 0.7146494373222092}. Best is trial 6 with value: 0.8071712891628146.\n",
      "[I 2025-02-06 11:27:30,144] Trial 10 finished with value: 0.6140729327170006 and parameters: {'max_depth': 5, 'learning_rate': 0.0017663383404743751, 'n_estimators': 78, 'subsample': 0.6178544528231625, 'colsample_bytree': 0.9832195023607502}. Best is trial 6 with value: 0.8071712891628146.\n",
      "[I 2025-02-06 11:27:32,261] Trial 11 finished with value: 0.8003466872110939 and parameters: {'max_depth': 31, 'learning_rate': 0.2879217674510222, 'n_estimators': 802, 'subsample': 0.81138838415775, 'colsample_bytree': 0.9050071797218594}. Best is trial 6 with value: 0.8071712891628146.\n",
      "[I 2025-02-06 11:27:33,497] Trial 12 finished with value: 0.808256291730868 and parameters: {'max_depth': 14, 'learning_rate': 0.22145524586451995, 'n_estimators': 627, 'subsample': 0.7961809677796023, 'colsample_bytree': 0.7559993055725189}. Best is trial 12 with value: 0.808256291730868.\n",
      "[I 2025-02-06 11:27:34,678] Trial 13 finished with value: 0.8025937339496663 and parameters: {'max_depth': 14, 'learning_rate': 0.24223090577683368, 'n_estimators': 590, 'subsample': 0.6797131493799651, 'colsample_bytree': 0.8018571362405231}. Best is trial 12 with value: 0.808256291730868.\n",
      "[I 2025-02-06 11:27:37,191] Trial 14 finished with value: 0.8071263482280431 and parameters: {'max_depth': 22, 'learning_rate': 0.004147044049144535, 'n_estimators': 700, 'subsample': 0.7752451028173003, 'colsample_bytree': 0.9170719661656559}. Best is trial 12 with value: 0.808256291730868.\n",
      "[I 2025-02-06 11:27:38,391] Trial 15 finished with value: 0.7992424242424242 and parameters: {'max_depth': 13, 'learning_rate': 0.03492963835082253, 'n_estimators': 449, 'subsample': 0.659639914367359, 'colsample_bytree': 0.857443617181828}. Best is trial 12 with value: 0.808256291730868.\n",
      "[I 2025-02-06 11:27:39,388] Trial 16 finished with value: 0.8026129943502825 and parameters: {'max_depth': 5, 'learning_rate': 0.19445354188191158, 'n_estimators': 493, 'subsample': 0.7440508619475763, 'colsample_bytree': 0.7515585863016068}. Best is trial 12 with value: 0.808256291730868.\n",
      "[I 2025-02-06 11:27:40,071] Trial 17 finished with value: 0.8015215716486903 and parameters: {'max_depth': 20, 'learning_rate': 0.02940486684963779, 'n_estimators': 184, 'subsample': 0.9968295057526193, 'colsample_bytree': 0.6048379236271548}. Best is trial 12 with value: 0.808256291730868.\n",
      "[I 2025-02-06 11:27:42,017] Trial 18 finished with value: 0.7969632768361582 and parameters: {'max_depth': 10, 'learning_rate': 0.00560211513364161, 'n_estimators': 678, 'subsample': 0.8187489553854177, 'colsample_bytree': 0.844367861448964}. Best is trial 12 with value: 0.808256291730868.\n",
      "[I 2025-02-06 11:27:43,083] Trial 19 finished with value: 0.7992360041088855 and parameters: {'max_depth': 27, 'learning_rate': 0.06568692778644869, 'n_estimators': 433, 'subsample': 0.7339877582380282, 'colsample_bytree': 0.9645684727407133}. Best is trial 12 with value: 0.808256291730868.\n",
      "[I 2025-02-06 11:27:43,587] Trial 20 finished with value: 0.8037686183872624 and parameters: {'max_depth': 17, 'learning_rate': 0.14027594852596978, 'n_estimators': 192, 'subsample': 0.6383551099105402, 'colsample_bytree': 0.9427880598660521}. Best is trial 12 with value: 0.808256291730868.\n",
      "[I 2025-02-06 11:27:45,720] Trial 21 finished with value: 0.8150231124807397 and parameters: {'max_depth': 23, 'learning_rate': 0.0028435490040986627, 'n_estimators': 701, 'subsample': 0.7810811525381546, 'colsample_bytree': 0.9240127028096096}. Best is trial 21 with value: 0.8150231124807397.\n",
      "[I 2025-02-06 11:27:47,802] Trial 22 finished with value: 0.8286209553158705 and parameters: {'max_depth': 24, 'learning_rate': 0.0018278112505837898, 'n_estimators': 738, 'subsample': 0.8423024866557113, 'colsample_bytree': 0.7676804880779774}. Best is trial 22 with value: 0.8286209553158705.\n",
      "[I 2025-02-06 11:27:49,765] Trial 23 finished with value: 0.8184578839239857 and parameters: {'max_depth': 25, 'learning_rate': 0.0010939311797888464, 'n_estimators': 735, 'subsample': 0.8394953879128227, 'colsample_bytree': 0.7632555864933672}. Best is trial 22 with value: 0.8286209553158705.\n",
      "[I 2025-02-06 11:27:51,868] Trial 24 finished with value: 0.8184578839239857 and parameters: {'max_depth': 27, 'learning_rate': 0.0010065186448478117, 'n_estimators': 781, 'subsample': 0.8450211515615961, 'colsample_bytree': 0.7932375909691776}. Best is trial 22 with value: 0.8286209553158705.\n",
      "[I 2025-02-06 11:27:54,358] Trial 25 finished with value: 0.8195814072932718 and parameters: {'max_depth': 32, 'learning_rate': 0.0010466325600569028, 'n_estimators': 815, 'subsample': 0.8641557183365474, 'colsample_bytree': 0.7840369321685666}. Best is trial 22 with value: 0.8286209553158705.\n",
      "[I 2025-02-06 11:27:57,463] Trial 26 finished with value: 0.8263739085772984 and parameters: {'max_depth': 34, 'learning_rate': 0.0011523651863605386, 'n_estimators': 993, 'subsample': 0.9125376925492131, 'colsample_bytree': 0.7644132294770571}. Best is trial 22 with value: 0.8286209553158705.\n",
      "[I 2025-02-06 11:28:00,590] Trial 27 finished with value: 0.8150359527478171 and parameters: {'max_depth': 35, 'learning_rate': 0.0019212758687300053, 'n_estimators': 984, 'subsample': 0.9374984108491322, 'colsample_bytree': 0.6983702337260317}. Best is trial 22 with value: 0.8286209553158705.\n",
      "[I 2025-02-06 11:28:03,638] Trial 28 finished with value: 0.8252439650744735 and parameters: {'max_depth': 37, 'learning_rate': 0.0016895497813846465, 'n_estimators': 889, 'subsample': 0.9487992279376434, 'colsample_bytree': 0.8340304107291964}. Best is trial 22 with value: 0.8286209553158705.\n",
      "[I 2025-02-06 11:28:06,446] Trial 29 finished with value: 0.8241076014381099 and parameters: {'max_depth': 39, 'learning_rate': 0.0017701431170098873, 'n_estimators': 893, 'subsample': 0.9477864384890788, 'colsample_bytree': 0.8694438465171818}. Best is trial 22 with value: 0.8286209553158705.\n"
     ]
    },
    {
     "name": "stdout",
     "output_type": "stream",
     "text": [
      "Melhores hiperparâmetros encontrados:  {'max_depth': 24, 'learning_rate': 0.0018278112505837898, 'n_estimators': 738, 'subsample': 0.8423024866557113, 'colsample_bytree': 0.7676804880779774}\n",
      "Melhor acurácia obtida:  0.8286209553158705\n"
     ]
    }
   ],
   "source": [
    "import optuna\n",
    "from sklearn.metrics import accuracy_score\n",
    "\n",
    "# Função de otimização para o Optuna\n",
    "def objective(trial):\n",
    "    # Definir o espaço de busca para os hiperparâmetros\n",
    "    param = {\n",
    "        'objective': 'binary:logistic',\n",
    "        'eval_metric': 'logloss',\n",
    "        'max_depth': trial.suggest_int('max_depth', 3, 50),  # profundidade máxima da árvore\n",
    "        'learning_rate': trial.suggest_float('learning_rate', 0.001, 0.3, log=True),  # taxa de aprendizado\n",
    "        'n_estimators': trial.suggest_int('n_estimators', 50, 1000),  # número de estimadores\n",
    "        'subsample': trial.suggest_float('subsample', 0.6, 1.0),  # fração de amostras a serem usadas\n",
    "        'colsample_bytree': trial.suggest_float('colsample_bytree', 0.6, 1.0),  # fração de características a serem usadas\n",
    "    }\n",
    "    \n",
    "    # Treinar o modelo XGBoost\n",
    "    model = xgb.XGBClassifier(**param)\n",
    "    model.fit(X_train, Y_train)\n",
    "    \n",
    "    kfold = StratifiedKFold(n_splits=5)\n",
    "    accuracy = cross_val_score(model, X_train, y=Y_train, scoring=\"accuracy\", cv=kfold, n_jobs=4)\n",
    "    accuracy = accuracy.mean()\n",
    "    \n",
    "    return accuracy\n",
    "\n",
    "# Criar e otimizar o estudo\n",
    "study = optuna.create_study(direction='maximize')  # maximize para maximizar a acurácia\n",
    "study.optimize(objective, n_trials=30)  # n_trials define o número de tentativas de otimização\n",
    "\n",
    "# Melhor conjunto de hiperparâmetros\n",
    "print(\"Melhores hiperparâmetros encontrados: \", study.best_params)\n",
    "\n",
    "# Melhor resultado\n",
    "print(\"Melhor acurácia obtida: \", study.best_value)\n"
   ]
  },
  {
   "cell_type": "markdown",
   "id": "2e59641f",
   "metadata": {
    "_cell_guid": "5a4df7a1-00b4-4613-95e7-a99e37169c4f",
    "_uuid": "5c54037462909e4de5a6e3d2bada10054e5b1989",
    "papermill": {
     "duration": 0.032106,
     "end_time": "2025-01-31T14:10:33.851667",
     "exception": false,
     "start_time": "2025-01-31T14:10:33.819561",
     "status": "completed"
    },
    "tags": []
   },
   "source": [
    "### 6.3 Prediction"
   ]
  },
  {
   "cell_type": "code",
   "execution_count": 172,
   "id": "f797dcdd",
   "metadata": {
    "execution": {
     "iopub.execute_input": "2025-01-31T14:10:33.920558Z",
     "iopub.status.busy": "2025-01-31T14:10:33.920099Z",
     "iopub.status.idle": "2025-01-31T14:10:36.466772Z",
     "shell.execute_reply": "2025-01-31T14:10:36.465332Z"
    },
    "papermill": {
     "duration": 2.58426,
     "end_time": "2025-01-31T14:10:36.469151",
     "exception": false,
     "start_time": "2025-01-31T14:10:33.884891",
     "status": "completed"
    },
    "tags": []
   },
   "outputs": [
    {
     "data": {
      "text/plain": [
       "XGBClassifier(base_score=None, booster=None, callbacks=None,\n",
       "              colsample_bylevel=None, colsample_bynode=None,\n",
       "              colsample_bytree=0.956110137829175, device=None,\n",
       "              early_stopping_rounds=None, enable_categorical=False,\n",
       "              eval_metric='logloss', feature_types=None, gamma=None,\n",
       "              grow_policy=None, importance_type=None,\n",
       "              interaction_constraints=None, learning_rate=0.006954668807737573,\n",
       "              max_bin=None, max_cat_threshold=None, max_cat_to_onehot=None,\n",
       "              max_delta_step=None, max_depth=37, max_leaves=None,\n",
       "              min_child_weight=None, missing=nan, monotone_constraints=None,\n",
       "              multi_strategy=None, n_estimators=238, n_jobs=None,\n",
       "              num_parallel_tree=None, random_state=None, ...)"
      ]
     },
     "execution_count": 172,
     "metadata": {},
     "output_type": "execute_result"
    }
   ],
   "source": [
    "xgb_optimized = xgb.XGBClassifier(\n",
    "    max_depth=37,\n",
    "    learning_rate=0.006954668807737573,\n",
    "    n_estimators=238,\n",
    "    subsample=0.7165617187363452,\n",
    "    colsample_bytree=0.956110137829175,\n",
    "    objective='binary:logistic',\n",
    "    eval_metric='logloss'\n",
    ")\n",
    "xgb_optimized.fit(X_train, Y_train)"
   ]
  },
  {
   "cell_type": "code",
   "execution_count": 173,
   "id": "74a4349d",
   "metadata": {
    "_cell_guid": "32abc9b7-f58d-4aa2-b002-25a84138e01c",
    "_execution_state": "idle",
    "_uuid": "05a908322774e752b86a86275740044c45bd48b4",
    "execution": {
     "iopub.execute_input": "2025-01-31T14:10:36.541530Z",
     "iopub.status.busy": "2025-01-31T14:10:36.541115Z",
     "iopub.status.idle": "2025-01-31T14:10:36.564135Z",
     "shell.execute_reply": "2025-01-31T14:10:36.562906Z"
    },
    "papermill": {
     "duration": 0.061583,
     "end_time": "2025-01-31T14:10:36.566263",
     "exception": false,
     "start_time": "2025-01-31T14:10:36.504680",
     "status": "completed"
    },
    "tags": []
   },
   "outputs": [],
   "source": [
    "test_Survived = pd.Series(xgb_optimized.predict(test), name=\"Survived\")\n",
    "\n",
    "results = pd.concat([IDtest,test_Survived],axis=1)\n",
    "results.to_csv(\"xgb_optimized.csv\",index=False)"
   ]
  }
 ],
 "metadata": {
  "kaggle": {
   "accelerator": "none",
   "dataSources": [
    {
     "databundleVersionId": 26502,
     "sourceId": 3136,
     "sourceType": "competition"
    }
   ],
   "dockerImageVersionId": 30839,
   "isGpuEnabled": false,
   "isInternetEnabled": true,
   "language": "python",
   "sourceType": "notebook"
  },
  "kernelspec": {
   "display_name": "base",
   "language": "python",
   "name": "python3"
  },
  "language_info": {
   "codemirror_mode": {
    "name": "ipython",
    "version": 3
   },
   "file_extension": ".py",
   "mimetype": "text/x-python",
   "name": "python",
   "nbconvert_exporter": "python",
   "pygments_lexer": "ipython3",
   "version": "3.9.12"
  },
  "papermill": {
   "default_parameters": {},
   "duration": 81.307194,
   "end_time": "2025-01-31T14:10:37.495438",
   "environment_variables": {},
   "exception": null,
   "input_path": "__notebook__.ipynb",
   "output_path": "__notebook__.ipynb",
   "parameters": {},
   "start_time": "2025-01-31T14:09:16.188244",
   "version": "2.6.0"
  }
 },
 "nbformat": 4,
 "nbformat_minor": 5
}
